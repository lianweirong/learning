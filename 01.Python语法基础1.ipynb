{
 "cells": [
  {
   "cell_type": "markdown",
   "metadata": {},
   "source": [
    "# 主要内容\n",
    "- 坚持写Blog\n",
    "- Jupyter notebook的用法\n",
    "- 变量\n",
    "- 跟vi/vim的编辑模式很像"
   ]
  },
  {
   "cell_type": "code",
   "execution_count": 10,
   "metadata": {
    "scrolled": true
   },
   "outputs": [
    {
     "name": "stdout",
     "output_type": "stream",
     "text": [
      "测试变量\n"
     ]
    }
   ],
   "source": [
    "# 变量声明的三种格式\n",
    "\n",
    "# 格式1\n",
    "s = \"测试变量\"\n",
    "print(s)\n",
    "\n",
    "# 格式2\n",
    "s2=s1=\"再次测试\"\n",
    "\n",
    "# 格式3\n",
    "s1,s2,s3 = \"测试1\",\"测试2\",\"测试3\""
   ]
  },
  {
   "cell_type": "markdown",
   "metadata": {},
   "source": [
    "# 变量类型\n",
    "- 严格意识上讲，python只有一个类型\n",
    "- 标准数据类型六种\n",
    "  - 数字 Number\n",
    "  - 字符串类型 str\n",
    "  - 列表 list\n",
    "  - 元组 tuple\n",
    "  - 字典 dict\n",
    "  - 集合 set"
   ]
  },
  {
   "cell_type": "markdown",
   "metadata": {},
   "source": [
    "# 数字类型 Number\n",
    "- python中的数字长度没有大小限制  \n",
    "\n",
    "# 数字分类\n",
    "- 整数\n",
    "  - 没有小数部分\n",
    "  - 包含正数，负数，0\n",
    "  - 二进制\n",
    "    - 只有0,1\n",
    "    - 以0b开头的01串\n",
    "    - 例如：\n",
    "      - 0b110\n",
    "      - 0b11110\n",
    "   - 八进制\n",
    "     - 以0o开头的0-7之间的数字串\n",
    "     - 例如： \n",
    "       - 0o71\n",
    "   - 十六进制\n",
    "     - 以0x组成的有0-9，a-f构成的串\n",
    "    \n",
    "- 浮点数\n",
    "- 科学计数法\n",
    "- 复数"
   ]
  },
  {
   "cell_type": "code",
   "execution_count": 13,
   "metadata": {
    "scrolled": true
   },
   "outputs": [
    {
     "name": "stdout",
     "output_type": "stream",
     "text": [
      "6\n",
      "30\n"
     ]
    }
   ],
   "source": [
    "# 二进制定义\n",
    "a1 = 0b110\n",
    "print(a1)\n",
    "\n",
    "a2=0b11110\n",
    "print(a2)"
   ]
  },
  {
   "cell_type": "code",
   "execution_count": 14,
   "metadata": {},
   "outputs": [
    {
     "name": "stdout",
     "output_type": "stream",
     "text": [
      "57\n"
     ]
    }
   ],
   "source": [
    "# 八进制案例\n",
    "a3 = 0o71\n",
    "print(a3)"
   ]
  },
  {
   "cell_type": "code",
   "execution_count": 16,
   "metadata": {
    "scrolled": true
   },
   "outputs": [
    {
     "name": "stdout",
     "output_type": "stream",
     "text": [
      "65535\n",
      "21490\n"
     ]
    }
   ],
   "source": [
    "# 十六进制案例\n",
    "a4 = 0xffff\n",
    "print(a4)\n",
    "\n",
    "a5= 0x53f2\n",
    "print(a5)"
   ]
  },
  {
   "cell_type": "markdown",
   "metadata": {},
   "source": [
    "## 浮点数\n",
    "- 就是通俗意义上的小数\n",
    "- 常见的案例格式\n",
    "  - 3.14159\n",
    "  - 3.\n",
    "  - 0.4\n",
    "  - .4\n",
    "- 科学计数法\n",
    "  - 定义跟数学定义一致\n",
    "  - 写法就是e后面跟整数用来表示10的指数\n",
    "  "
   ]
  },
  {
   "cell_type": "code",
   "execution_count": 2,
   "metadata": {},
   "outputs": [
    {
     "name": "stdout",
     "output_type": "stream",
     "text": [
      "184.0\n",
      "0.2\n"
     ]
    }
   ],
   "source": [
    "# 科学计数法\n",
    "height = 1.84e2\n",
    "print(height)\n",
    "\n",
    "a = .2\n",
    "\n",
    "print(a)"
   ]
  },
  {
   "cell_type": "markdown",
   "metadata": {},
   "source": [
    "# 复数 complex\n",
    "- 与数学定义一致：\n",
    "  - 把形如z=a+bi（a,b均为实数）的数称为复数，其中a称为实部，b称为虚部，i称为虚数单位。\n",
    "  - 当z的虚部等于零时，常称z为实数；当z的虚部不等于零时，实部等于零时，常称z为纯虚数。\n",
    "  - 复数域是实数域的代数闭包，即任何复系数多项式在复数域中总有根。\n",
    "- 复数的虚部用j/J表示\n",
    "- 例如：\n",
    "  - 5+4j\n",
    "  - 4j\n",
    "  - （4j）"
   ]
  },
  {
   "cell_type": "code",
   "execution_count": 3,
   "metadata": {},
   "outputs": [
    {
     "name": "stdout",
     "output_type": "stream",
     "text": [
      "4j\n"
     ]
    }
   ],
   "source": [
    "a= 4j\n",
    "print(a)"
   ]
  },
  {
   "cell_type": "markdown",
   "metadata": {},
   "source": [
    "# 布尔值\n",
    "- 布尔值就是用来表示真假的值\n",
    "- 只有两个值：True/False\n",
    "- 在python中，布尔值可以当数字使用\n",
    "  - 布尔值如果当数字使用，True=1，False=0\n",
    "  - 如果数字用来当作布尔值使用，0=False，1=True"
   ]
  },
  {
   "cell_type": "code",
   "execution_count": 7,
   "metadata": {},
   "outputs": [
    {
     "name": "stdout",
     "output_type": "stream",
     "text": [
      "19\n",
      "18\n",
      "负数是True\n"
     ]
    }
   ],
   "source": [
    "# 布尔值当做数字使用\n",
    "\n",
    "age = 18 + True\n",
    "print(age)\n",
    "\n",
    "age = 18+False\n",
    "print(age)\n",
    "\n",
    "# 判断语句\n",
    "a= -1\n",
    "if a:\n",
    "    print(\"负数是True\")\n",
    "else:\n",
    "    print(\"负数是False\")"
   ]
  },
  {
   "cell_type": "markdown",
   "metadata": {},
   "source": [
    "# 字符串\n",
    "- 表达文字信息的内容，比如“测试案例”\n",
    "- 形式上是引号引起来的一段内容\n",
    "- 引号包括\n",
    "  - 单引号\n",
    "  - 双引号\n",
    "  - 三引号，可以用来表示多行信息\n",
    "- 单双引号含义一致\n"
   ]
  },
  {
   "cell_type": "code",
   "execution_count": 10,
   "metadata": {},
   "outputs": [
    {
     "name": "stdout",
     "output_type": "stream",
     "text": [
      "测试案例\n",
      "测试案例2\n",
      "测试1\n",
      "测试2\n",
      "测试3\n",
      "\n",
      "测试三引号\n"
     ]
    }
   ],
   "source": [
    "# 字符串案例\n",
    "\n",
    "love= \"测试案例\"\n",
    "print(love)\n",
    "\n",
    "love1='测试案例2'\n",
    "print(love1)\n",
    "\n",
    "#三引号可以用来表示多行\n",
    "love3='''测试1\n",
    "测试2\n",
    "测试3\n",
    "'''\n",
    "love4='''测试三引号'''\n",
    "print(love3)\n",
    "print(love4)\n"
   ]
  },
  {
   "cell_type": "markdown",
   "metadata": {},
   "source": [
    "# None类型\n",
    "- 表示没有，通常用来占位\n",
    "- 比如返回，用来表示返回一个空值"
   ]
  },
  {
   "cell_type": "markdown",
   "metadata": {},
   "source": [
    "# 表达式\n",
    "- 由一个或者几个数字或者变量或者运算符合成的一行代码\n",
    "- 通常返回一个结果\n",
    "\n",
    "# 运算符\n",
    "- 由一个以上的值经过一系列的运算得到新值的过程就叫运算\n",
    "- 用来操作运算的符号交运算符\n",
    "- 运算符分类\n",
    "  - 算术运算符\n",
    "  - 比较或者关系运算符\n",
    "  - 赋值运算符\n",
    "  - 逻辑运算符\n",
    "  - 位运算\n",
    "  - 成员运算符\n",
    "  - 身份运算符"
   ]
  },
  {
   "cell_type": "code",
   "execution_count": 12,
   "metadata": {},
   "outputs": [],
   "source": [
    "# 表达式案例\n",
    "a = 1 + 2"
   ]
  },
  {
   "cell_type": "markdown",
   "metadata": {},
   "source": [
    "## 算术运算符\n",
    "- 用来进行算术运算的符号\n",
    "- 通常用来表示加减乘除\n",
    "- python没有自增自减运算符\n"
   ]
  },
  {
   "cell_type": "code",
   "execution_count": 3,
   "metadata": {},
   "outputs": [
    {
     "name": "stdout",
     "output_type": "stream",
     "text": [
      "7\n",
      "11\n",
      "16\n",
      "1\n"
     ]
    }
   ],
   "source": [
    "#算术运算符案例\n",
    "\n",
    "#加减乘跟数学意义基本一致\n",
    "\n",
    "a = 9 - 2\n",
    "print(a)\n",
    "\n",
    "b = 9 + 2\n",
    "print(b)\n",
    "\n",
    "c = 8 * 2\n",
    "print(c)\n",
    "\n",
    "# python除法分为普通除法，地板除，取余\n",
    "# 正常除法\n",
    "# 此操作符在python2.x和3.x中有些不同\n",
    "a = 9 % 2\n",
    "print(a)"
   ]
  },
  {
   "cell_type": "markdown",
   "metadata": {},
   "source": [
    "# 所有数学运算符都可以缩写\n",
    "# -=，*=，/=，//=，%=，**=，都是缩写形式\n",
    "# python里面没有++，--"
   ]
  },
  {
   "cell_type": "markdown",
   "metadata": {},
   "source": [
    "# 逻辑运算符\n",
    "- 对布尔类型变量或者值进行运算的符号\n",
    "- and：逻辑与\n",
    "- or：逻辑或\n",
    "- not：逻辑非\n",
    "- python里面的逻辑运算没有异或\n",
    "- 运算规则：\n",
    "  - and看做乘法，or看做加法\n",
    "  - True看做1，False看做0\n",
    "  - 则逻辑运算就能转换成整数数学运算\n",
    "  - 最后结果如果是0则为False，否则为True\n",
    "- 逻辑运算的短路问题\n",
    "  - 逻辑运算时，按照运算顺序计算，一旦能够确定整个式子未来的值，则不再进行计算，直接返回\n",
    "  "
   ]
  },
  {
   "cell_type": "code",
   "execution_count": 4,
   "metadata": {},
   "outputs": [
    {
     "name": "stdout",
     "output_type": "stream",
     "text": [
      "True\n",
      "False\n",
      "True\n"
     ]
    }
   ],
   "source": [
    "# 逻辑表达举例\n",
    "a = True\n",
    "b = True\n",
    "c = False\n",
    "\n",
    "aa = a and b #左边表达式可以转换成1*1\n",
    "print(aa)\n",
    "\n",
    "bb = a and c\n",
    "print(bb)\n",
    "\n",
    "cc = 100 and b\n",
    "print(cc)\n",
    "\n",
    "# 布尔值跟数字的转化\n",
    "# 数字转换成布尔值的时候，0 = False，取余是True\n",
    "#布尔值转换成数值的时候，True = 1 ，False = 0"
   ]
  },
  {
   "cell_type": "code",
   "execution_count": 3,
   "metadata": {},
   "outputs": [
    {
     "name": "stdout",
     "output_type": "stream",
     "text": [
      "True\n"
     ]
    }
   ],
   "source": [
    "# 短路问题案例\n",
    "a = True\n",
    "b = True\n",
    "c = False\n",
    "\n",
    "aa = a or b and ( a and b ) #转换成算数1+ 。。。。 。。。。\n",
    "print(aa)"
   ]
  },
  {
   "cell_type": "code",
   "execution_count": 8,
   "metadata": {},
   "outputs": [
    {
     "name": "stdout",
     "output_type": "stream",
     "text": [
      "a\n",
      "b\n",
      "True\n",
      "********************\n",
      "a\n",
      "True\n"
     ]
    }
   ],
   "source": [
    "# 短路问题案例2\n",
    "def a():\n",
    "    print('a')\n",
    "    return True\n",
    "\n",
    "def b():\n",
    "    print(\"b\")\n",
    "    return True\n",
    "\n",
    "aaa = a() and b()\n",
    "print(aaa)\n",
    " \n",
    "# 字符串乘以数字，表示这个字符串重复多少遍    \n",
    "print(\"*\" * 20)\n",
    "\n",
    "bbb = a() or b() # 短路\n",
    "print(bbb)\n",
    "    "
   ]
  },
  {
   "cell_type": "markdown",
   "metadata": {},
   "source": [
    "# 成员运算符\n",
    "- 用来检测一个值或者变量是否在某个集合里面\n",
    "- in：成员运算符\n",
    "- not in：不在里面的意思\n",
    "-"
   ]
  },
  {
   "cell_type": "code",
   "execution_count": 11,
   "metadata": {},
   "outputs": [
    {
     "name": "stdout",
     "output_type": "stream",
     "text": [
      "True\n"
     ]
    }
   ],
   "source": [
    "# in案例\n",
    "L = [1,2,3,4,5]\n",
    "a = 6\n",
    "aa = a not in L\n",
    "print(aa)"
   ]
  },
  {
   "cell_type": "markdown",
   "metadata": {},
   "source": [
    "# 身份运算符\n",
    "- 用来确定两个变量是否是同一变量\n",
    "- is：变量运算符\n",
    "- is not：不是\n",
    "- 学python的想必都知道，对整数N \\in\\[-5,256\\],解释器对他们做了单独的处理，放进了固定的内存中，不因你每次运行而变化"
   ]
  },
  {
   "cell_type": "code",
   "execution_count": 17,
   "metadata": {},
   "outputs": [
    {
     "name": "stdout",
     "output_type": "stream",
     "text": [
      "False\n",
      "False\n",
      "True\n"
     ]
    }
   ],
   "source": [
    "# 身份运算符定义\n",
    "a = 1\n",
    "b = 1000029292\n",
    "aa = a is b \n",
    "print(aa)\n",
    "\n",
    "# a,b仅仅是值一样，并不代表a,b是一个变量\n",
    "a = 1000029292\n",
    "b = 1000029292\n",
    "aa = a is b \n",
    "print(aa)\n",
    "\n",
    "# 正确理解下面案例跟上面案例的不同\n",
    "a = 5\n",
    "b = 5\n",
    "aa = a is b \n",
    "print(aa)"
   ]
  },
  {
   "cell_type": "markdown",
   "metadata": {},
   "source": [
    "# 运算符优先级问题\n",
    "- 小括号具有最高优先级\n",
    "- "
   ]
  },
  {
   "cell_type": "markdown",
   "metadata": {},
   "source": [
    "# 程序结构\n",
    "- 程序三种结构\n",
    "  - 顺序\n",
    "  - 循环\n",
    "  - 分支\n",
    "  "
   ]
  },
  {
   "cell_type": "markdown",
   "metadata": {},
   "source": [
    "# 分支结构\n",
    "- 分支结构的基本语法    \n",
    "\n",
    "    if 条件表达式：\n",
    "        语句1\n",
    "        语句2\n",
    "        语句3\n",
    "        ......\n",
    "- 条件表达式就是计算结果必须为布尔值的表达式\n",
    "- 表达式后面的冒号不能少\n",
    "- 注意if后面出现的语句，如果属于if语句块，则必须同一个缩进登记\n",
    "- 条件表达式结果为True执行if后面的缩进的语句块\n"
   ]
  },
  {
   "cell_type": "code",
   "execution_count": 21,
   "metadata": {},
   "outputs": [
    {
     "name": "stdout",
     "output_type": "stream",
     "text": [
      "日子还得过呀\n"
     ]
    }
   ],
   "source": [
    "# if语句练习\n",
    "# 如果你们都买我的习题课，我就发财了\n",
    "a = \"都买习题课\"\n",
    "a = False\n",
    "\n",
    "# 字符串的真假\n",
    "# 只有空字符串为False，其余为True\n",
    "\n",
    "if a:\n",
    "    print('发财了')\n",
    "    print('哈哈')\n",
    "print('日子还得过呀')"
   ]
  },
  {
   "cell_type": "code",
   "execution_count": 23,
   "metadata": {},
   "outputs": [
    {
     "name": "stdout",
     "output_type": "stream",
     "text": [
      "喝酒去\n",
      "下次你请我\n"
     ]
    }
   ],
   "source": [
    "# if练习二\n",
    "\n",
    "age = 19\n",
    "\n",
    "if age > 16:\n",
    "    print('喝酒去')\n",
    "print(\"下次你请我\")"
   ]
  },
  {
   "cell_type": "markdown",
   "metadata": {},
   "source": [
    "# 双向分支\n",
    "- if...else...表达\n",
    "- 语法结构：\n"
   ]
  },
  {
   "cell_type": "code",
   "execution_count": 28,
   "metadata": {},
   "outputs": [
    {
     "name": "stdout",
     "output_type": "stream",
     "text": [
      "请输入您的性别：haha\n",
      "haha\n",
      "你是个啥子\n"
     ]
    }
   ],
   "source": [
    "# input的作用是\n",
    "# 1、在屏幕上输出括号内的字符串\n",
    "# 2、接收用户输入的内容并返回到程序\n",
    "# 3、input返回的内容一定是字符串类型\n",
    "\n",
    "# input负责接受用户输入并吧内容返回给变量\n",
    "gender = input(\"请输入您的性别：\")\n",
    "\n",
    "# 打印输入的内容\n",
    "print(gender)\n",
    "\n",
    "if gender == \"man\":\n",
    "    print(\"走，吃饭喝酒去\")\n",
    "    print(\"一起玩去\")\n",
    "else:\n",
    "    print(\"你是个啥子\")"
   ]
  },
  {
   "cell_type": "code",
   "execution_count": 3,
   "metadata": {},
   "outputs": [
    {
     "name": "stdout",
     "output_type": "stream",
     "text": [
      "请输入您的成绩：98\n",
      "优\n"
     ]
    }
   ],
   "source": [
    "# 考试成绩判断\n",
    "# 成绩由用户输入\n",
    "# 90以上：输出优秀\n",
    "# 80-90：良\n",
    "# 70-80：中\n",
    "# 60-70：平\n",
    "# 60以下：输出：我没你这撒学僧\n",
    "\n",
    "\n",
    "# 输入成绩，需要用到input函数\n",
    "# input输入的值全部都是字符串\n",
    "\n",
    "achi = input(\"请输入您的成绩：\")\n",
    "\n",
    "# 解决输入是字符串的问题\n",
    "achi = int(achi)\n",
    "\n",
    "if achi < 60:\n",
    "    print(\"我没你这撒学僧\")\n",
    "if achi >= 60 and achi < 70:\n",
    "    print('平')\n",
    "if achi >= 70 and achi < 80:\n",
    "    print('中')\n",
    "if achi >= 80 and achi < 90:\n",
    "    print('良')\n",
    "if achi >= 90 and achi < 100:\n",
    "    print('优')\n"
   ]
  },
  {
   "cell_type": "markdown",
   "metadata": {},
   "source": [
    "# 夺路分支\n",
    "- 很多分支的情况，叫夺路分支\n",
    "  if 条件表达式\n",
    "    语句1\n",
    "    ....\n"
   ]
  },
  {
   "cell_type": "markdown",
   "metadata": {},
   "source": [
    "# for-else语句\n",
    "- for循环结束的时候，有时候需要执行一些收尾工作，此时需要使用else语句\n",
    "- else语句是可选"
   ]
  },
  {
   "cell_type": "markdown",
   "metadata": {},
   "source": [
    "# break,continue,pass\n",
    "- break：无条件结束整个循环，简称循环猝死\n",
    "- continue：继续\n",
    "- pass：只是占位符号，代表这句话啥也不干，没有跳过功能"
   ]
  },
  {
   "cell_type": "markdown",
   "metadata": {},
   "source": [
    "# range函数\n",
    "- 生成有序数列\n",
    "- 生成数字队列可以定制"
   ]
  },
  {
   "cell_type": "code",
   "execution_count": 6,
   "metadata": {},
   "outputs": [
    {
     "name": "stdout",
     "output_type": "stream",
     "text": [
      "1\n",
      "2\n",
      "3\n",
      "4\n",
      "5\n",
      "6\n",
      "7\n",
      "8\n",
      "9\n"
     ]
    }
   ],
   "source": [
    "# range案例1\n",
    "# 生成一个从1到100的数字序列\n",
    "# range生成序列的两个数字是左包括右不包括\n",
    "dig_list = range(1,10)\n",
    "for dig in dig_list:\n",
    "    print(dig)"
   ]
  },
  {
   "cell_type": "code",
   "execution_count": 4,
   "metadata": {},
   "outputs": [
    {
     "name": "stdout",
     "output_type": "stream",
     "text": [
      "1\n",
      "2\n",
      "3\n",
      "4\n",
      "5\n",
      "6\n",
      "7\n",
      "8\n",
      "9\n"
     ]
    }
   ],
   "source": [
    "# range案例\n",
    "# 打印从1到9的数字\n",
    "for i in range(1,10):\n",
    "    print(i)\n"
   ]
  },
  {
   "cell_type": "markdown",
   "metadata": {},
   "source": [
    "# while循环\n",
    "- 一个循环语句\n",
    "- 表示当条件成立的时候，就循环，适应于不知道具体循环次数，但能确定在某个条件下成立就循环\n",
    "- while语法：  \n",
    "  while 条件表达式:  \n",
    "    语句块\n",
    "    \n",
    "   #另外一种表达方式  \n",
    "   while 条件表达式:  \n",
    "     语句块1  \n",
    "   else：  \n",
    "     语句块2  "
   ]
  },
  {
   "cell_type": "markdown",
   "metadata": {},
   "source": [
    "# 函数\n",
    "- 函数是代码的一种组织形式\n",
    "- 函数应该能够完成一项特定的工作，而且一般一个函数只完成一项工作\n",
    "- 有些语言，分函数和过程两个概念，通俗解释是，有返回结果的叫函数，无返回结果的叫过程，Python不加以区分\n",
    "- 函数的使用\n",
    "  - 函数使用需要先定义\n",
    "  - 使用函数，俗称调用"
   ]
  },
  {
   "cell_type": "code",
   "execution_count": 6,
   "metadata": {},
   "outputs": [
    {
     "name": "stdout",
     "output_type": "stream",
     "text": [
      "函数结束了\n"
     ]
    }
   ],
   "source": [
    "# 定义一个函数\n",
    "# 只是定义的化不会执行\n",
    "# 1、def关键字，后面跟一个空格\n",
    "# 2、函数名，自己定义，起名需要遵循变量命名规则，约定俗成，大驼峰命名只给类用\n",
    "# 3、后面括号和冒号不能省略，括号内可以有参数\n",
    "# 4、函数内所有代码缩进\n",
    "\n",
    "def func():\n",
    "    print(\"我是一个函数\")\n",
    "    print(\"爱生活\")\n",
    "print(\"函数结束了\")"
   ]
  },
  {
   "cell_type": "code",
   "execution_count": 1,
   "metadata": {},
   "outputs": [],
   "source": [
    "# 函数的调用\n",
    "# 直接写出函数名字，后面小括号不能省略，括号内内容根据情况\n",
    "\n"
   ]
  },
  {
   "cell_type": "markdown",
   "metadata": {},
   "source": [
    "# 本课程内容\n",
    "- 函数讲完参数\n",
    "- str\n",
    "- list,tuple,set,map"
   ]
  },
  {
   "cell_type": "code",
   "execution_count": 3,
   "metadata": {},
   "outputs": [
    {
     "name": "stdout",
     "output_type": "stream",
     "text": [
      "哈哈哈\n",
      "哈喽\n"
     ]
    }
   ],
   "source": [
    "# 函数定义\n",
    "def func():\n",
    "    print(\"哈哈哈\")\n",
    "    print(\"哈喽\")\n",
    "    \n",
    "func()"
   ]
  },
  {
   "cell_type": "markdown",
   "metadata": {},
   "source": [
    "# 函数的参数和返回值\n",
    "- 参数：负责给函数传递一些必要的数据或信息\n",
    "  - 形参（形式参数）：在函数定义的时候用到的参数，没有具体值，只是一个占位符号；\n",
    "  - 实参（实际参数）：在调用函数的时候输入的值\n",
    "- 返回值：调用函数的时候的一个执行结果\n",
    "  - 如适用return返回结果\n",
    "  - 如果没有值需要返回，推荐使用return None表示函数结束\n",
    "  - 函数一旦执行return，则函数立即结束\n",
    "  - 如果函数没有return关键字，则函数默认返回None"
   ]
  },
  {
   "cell_type": "code",
   "execution_count": 5,
   "metadata": {},
   "outputs": [
    {
     "name": "stdout",
     "output_type": "stream",
     "text": [
      "小明，你好吗？\n",
      "小明,你看见我了吗？\n"
     ]
    }
   ],
   "source": [
    "# 形参和实参的案例\n",
    "# 参数person只是一个符号\n",
    "# 调用的时候用另一个\n",
    "def hello(person):\n",
    "    print(\"{0}，你好吗？\".format(person))\n",
    "    print(\"{},你看见我了吗？\".format(person))\n",
    "    \n",
    "p = \"小明\"\n",
    "\n",
    "# 调用函数，需要把p作为实参传入\n",
    "hello(p)"
   ]
  },
  {
   "cell_type": "code",
   "execution_count": 7,
   "metadata": {},
   "outputs": [
    {
     "name": "stdout",
     "output_type": "stream",
     "text": [
      "小吴，你好吗？\n",
      "小吴,你看见我了吗？\n",
      "None\n"
     ]
    }
   ],
   "source": [
    "p = \"小吴\"\n",
    "pp = hello(p)\n",
    "print(pp)"
   ]
  },
  {
   "cell_type": "code",
   "execution_count": 27,
   "metadata": {
    "scrolled": false
   },
   "outputs": [
    {
     "name": "stdout",
     "output_type": "stream",
     "text": [
      "Help on built-in function print in module builtins:\n",
      "\n",
      "print(...)\n",
      "    print(value, ..., sep=' ', end='\\n', file=sys.stdout, flush=False)\n",
      "    \n",
      "    Prints the values to a stream, or to sys.stdout by default.\n",
      "    Optional keyword arguments:\n",
      "    file:  a file-like object (stream); defaults to the current sys.stdout.\n",
      "    sep:   string inserted between values, default a space.\n",
      "    end:   string appended after the last value, default a newline.\n",
      "    flush: whether to forcibly flush the stream.\n",
      "\n"
     ]
    }
   ],
   "source": [
    "# help负责随时为你提供帮助\n",
    "help(print) #等价于help(None)\n"
   ]
  },
  {
   "cell_type": "code",
   "execution_count": 29,
   "metadata": {},
   "outputs": [
    {
     "name": "stdout",
     "output_type": "stream",
     "text": [
      "1 \n",
      "2 4 \n",
      "3 6 9 \n",
      "4 8 12 16 \n",
      "5 10 15 20 25 \n",
      "6 12 18 24 30 36 \n",
      "7 14 21 28 35 42 49 \n",
      "8 16 24 32 40 48 56 64 \n",
      "9 18 27 36 45 54 63 72 81 \n"
     ]
    }
   ],
   "source": [
    "# 九九乘法表 \n",
    "# version 1.0\n",
    "for a in range(1,10):\n",
    "    for b in range(1,a+1):\n",
    "        print(a*b,end=\" \")\n",
    "    print()"
   ]
  },
  {
   "cell_type": "code",
   "execution_count": 33,
   "metadata": {},
   "outputs": [
    {
     "name": "stdout",
     "output_type": "stream",
     "text": [
      "1 \n",
      "2 4 \n",
      "3 6 9 \n",
      "4 8 12 16 \n",
      "5 10 15 20 25 \n",
      "6 12 18 24 30 36 \n",
      "7 14 21 28 35 42 49 \n",
      "8 16 24 32 40 48 56 64 \n",
      "9 18 27 36 45 54 63 72 81 "
     ]
    }
   ],
   "source": [
    "# 九九乘法表\n",
    "for a in range(1,10): #控制外循环，从1到9\n",
    "    for b in range(1,10): #控制内循环\n",
    "        if b > a:\n",
    "            print()\n",
    "            break\n",
    "        else:\n",
    "            print(a*b,end=\" \")\n",
    "            \n"
   ]
  },
  {
   "cell_type": "code",
   "execution_count": 39,
   "metadata": {},
   "outputs": [
    {
     "name": "stdout",
     "output_type": "stream",
     "text": [
      "1 \n",
      "2 4 \n",
      "3 6 9 \n",
      "4 8 12 16 \n",
      "5 10 15 20 25 \n",
      "6 12 18 24 30 36 \n",
      "7 14 21 28 35 42 49 \n",
      "8 16 24 32 40 48 56 64 \n",
      "9 18 27 36 45 54 63 72 81 \n",
      "1 \n",
      "2 4 \n",
      "3 6 9 \n",
      "4 8 12 16 \n",
      "5 10 15 20 25 \n",
      "6 12 18 24 30 36 \n",
      "7 14 21 28 35 42 49 \n",
      "8 16 24 32 40 48 56 64 \n",
      "9 18 27 36 45 54 63 72 81 \n"
     ]
    }
   ],
   "source": [
    "# 尝试使用函数来打印舅舅乘法表\n",
    "def jiujiu():\n",
    "    for a in range(1,10):\n",
    "        for b in range(1,a+1):\n",
    "            print(a*b,end=\" \")\n",
    "        print()\n",
    "    return None\n",
    "\n",
    "jiujiu()\n",
    "jiujiu()"
   ]
  },
  {
   "cell_type": "code",
   "execution_count": 42,
   "metadata": {},
   "outputs": [
    {
     "name": "stdout",
     "output_type": "stream",
     "text": [
      "测试测试测试\n",
      "测试测试测试\n",
      "测试测试测试\n",
      "测试测试测试\n",
      "测试测试测试\n",
      "测试测试测试\n",
      "测试测试测试\n",
      "测试测试测试\n",
      "测试测试测试\n"
     ]
    }
   ],
   "source": [
    "# 改造上面的函数\n",
    "def printLine():\n",
    "    '''\n",
    "    打印一行九九乘法表\n",
    "    '''\n",
    "    print('测试测试测试')\n",
    "\n",
    "def jiujiu():\n",
    "    for o in range(1,10):\n",
    "        printLine()\n",
    "    return None\n",
    "\n",
    "jiujiu()\n",
    "    "
   ]
  },
  {
   "cell_type": "code",
   "execution_count": 50,
   "metadata": {},
   "outputs": [
    {
     "name": "stdout",
     "output_type": "stream",
     "text": [
      "1 \n",
      "2 4 \n",
      "3 6 9 \n",
      "4 8 12 16 \n",
      "5 10 15 20 25 \n",
      "6 12 18 24 30 36 \n",
      "7 14 21 28 35 42 49 \n",
      "8 16 24 32 40 48 56 64 \n",
      "9 18 27 36 45 54 63 72 81 \n"
     ]
    }
   ],
   "source": [
    "# 改造上面的函数\n",
    "def printLine(line_num):\n",
    "    '''\n",
    "    line_num:代表行号\n",
    "    打印一行九九乘法表\n",
    "    '''\n",
    "    for i in range (1,line_num + 1):\n",
    "        print(line_num*i,end=' ')\n",
    "    print()\n",
    "\n",
    "def jiujiu():\n",
    "    for o in range(1,10):\n",
    "        printLine(o)\n",
    "    return None\n",
    "\n",
    "jiujiu()\n"
   ]
  },
  {
   "cell_type": "markdown",
   "metadata": {},
   "source": [
    "# 参数详解\n",
    "- 参数分类\n",
    "  - 普通参数/位置参数\n",
    "  - 默认参数\n",
    "  - 关键字参数\n",
    "  - 收集参数\n",
    " "
   ]
  },
  {
   "cell_type": "code",
   "execution_count": 56,
   "metadata": {},
   "outputs": [
    {
     "name": "stdout",
     "output_type": "stream",
     "text": [
      "5\n"
     ]
    }
   ],
   "source": [
    "# 普通参数案例\n",
    "\n",
    "def normal_para(one,two,three):\n",
    "    print(one + two)\n",
    "    return None\n",
    "normal_para(2,3,4)"
   ]
  },
  {
   "cell_type": "code",
   "execution_count": 58,
   "metadata": {},
   "outputs": [
    {
     "name": "stdout",
     "output_type": "stream",
     "text": [
      "3\n"
     ]
    }
   ],
   "source": [
    "# 默认参数案例\n",
    "\n",
    "def default_para(one,two,three = 3):\n",
    "    print(one+two)\n",
    "    return None\n",
    "default_para(1,2)"
   ]
  },
  {
   "cell_type": "code",
   "execution_count": 61,
   "metadata": {},
   "outputs": [
    {
     "name": "stdout",
     "output_type": "stream",
     "text": [
      "3\n",
      "3\n",
      "3\n",
      "1\n"
     ]
    }
   ],
   "source": [
    "# 关键字参数\n",
    "\n",
    "def key_para(one,two,three):\n",
    "    print(one+two)\n",
    "    print(three)\n",
    "    return None\n",
    "key_para(one=1,two=2,three=3)\n",
    "key_para(three=1,two=2,one=1)"
   ]
  },
  {
   "cell_type": "markdown",
   "metadata": {},
   "source": [
    "# str字符串\n",
    "- str\n",
    "- 转义字符\n",
    "- 格式化\n",
    "- 内建函数"
   ]
  },
  {
   "cell_type": "markdown",
   "metadata": {},
   "source": [
    "# 字符串\n",
    "- 表示文字信息\n",
    "- 用单引号，双引号，三引号括起来"
   ]
  },
  {
   "cell_type": "code",
   "execution_count": 64,
   "metadata": {},
   "outputs": [
    {
     "name": "stdout",
     "output_type": "stream",
     "text": [
      "111 222 \n",
      "333\n",
      "344\n",
      "555\n",
      "\n"
     ]
    }
   ],
   "source": [
    "a = '111'\n",
    "b = \"222\"\n",
    "c = '''\n",
    "333\n",
    "344\n",
    "555\n",
    "'''\n",
    "print(a,b,c)"
   ]
  },
  {
   "cell_type": "markdown",
   "metadata": {},
   "source": [
    "# 转义字符\n",
    "- 用一个特色的方法表示出一系列不方便写出的内容，比如回车键、换行符、退格键\n",
    "- 借助反斜杠字符，一旦字符串中出现反斜杠，则反斜杠后面的一个或几个字符表示已不是原来的意思了，进行了转义。\n",
    "- 在字符串中，一旦出现反斜杠要加倍小心，可能有转义字符出现\n",
    "- 不同操作系统对换行操作有不同的表示\n",
    "   - windows：\\n\n",
    "   - Linux：\\r\\n\n",
    "   "
   ]
  },
  {
   "cell_type": "code",
   "execution_count": 11,
   "metadata": {},
   "outputs": [
    {
     "name": "stdout",
     "output_type": "stream",
     "text": [
      "Let's go\n",
      "Let's Go\n",
      "c:\\User\\lianweirong\n",
      "Ich\r\n",
      "lieb\r\n",
      "haha\n"
     ]
    }
   ],
   "source": [
    "# 转义字符的案例\n",
    "# 想表达 Let's Go\n",
    "# 使用转义字符\n",
    "s = 'Let\\'s go'\n",
    "print(s)\n",
    "\n",
    "# 使用单双引号嵌套\n",
    "s = \"Let's Go\"\n",
    "print(s)\n",
    "\n",
    "#  表示斜杠\n",
    "# 比如表示C:\\User\\lianweirong\n",
    "s = \"c:\\\\User\\\\lianweirong\"\n",
    "print(s)\n",
    "\n",
    "# 回车换行\n",
    "# 想表达的效果是：\n",
    "# Ich\n",
    "# lieb\n",
    "# haha\n",
    "# windows下也可以使用\\r\\n，效果相同\n",
    "s = \"Ich\\r\\nlieb\\r\\nhaha\"\n",
    "print(s)"
   ]
  },
  {
   "cell_type": "code",
   "execution_count": 14,
   "metadata": {},
   "outputs": [],
   "source": [
    "# 单个斜杠的用法\n",
    "# 在Python里，单个反斜杠表示此行未结束，处于美观，需要下一行继续\n",
    "# 理论上应该写成def myDemo(x,y,z)\n",
    "\n",
    "def myDemo(x,\\\n",
    "          y,\\\n",
    "          z):\n",
    "    print(\"hahahahaha\")\n",
    "\n",
    "\n"
   ]
  },
  {
   "cell_type": "markdown",
   "metadata": {},
   "source": [
    "# 格式化\n",
    "- 把字符串按一定的格式进行打印或者填充\n",
    "- 格式化的分类：\n",
    "  - 传统格式化\n",
    "  - format"
   ]
  },
  {
   "cell_type": "code",
   "execution_count": 17,
   "metadata": {},
   "outputs": [
    {
     "name": "stdout",
     "output_type": "stream",
     "text": [
      "I love python\n",
      "I love Jave\n",
      "I love C++\n"
     ]
    }
   ],
   "source": [
    "# 填充\n",
    "s = \"I love python\"\n",
    "print(s)\n",
    "\n",
    "s = \"I love Jave\"\n",
    "print(s)\n",
    "\n",
    "s = \"I love C++\"\n",
    "print(s)\n",
    "\n",
    "\n",
    "\n"
   ]
  },
  {
   "cell_type": "markdown",
   "metadata": {},
   "source": [
    "# 字符串的传统格式化方法\n",
    "- 使用%进行格式化\n",
    "- %（百分号）也叫占位符\n",
    "    %d, %i,代表整数，%f-浮点，%s,字符串，%c,char. %p 指针，%fL 长long，%e科学计数，%g 小数或科学计数。  \n",
    "    C语言中的格式占位符：    \n",
    "    %a,%A 读入一个浮点值(仅C99有效)  \n",
    "    %c 读入一个字符  \n",
    "    %d 读入十进制整数  \n",
    "    %i 读入十进制，八进制，十六进制整数  \n",
    "    %o 读入八进制整数  \n",
    "    %x,%X 读入十六进制整数    \n",
    "    %s 读入一个字符串，遇空格、制表符或换行符结束。  \n",
    "    %f,%F,%e,%E,%g,%G 用来输入实数，可以用小数形式或指数形式输入。  \n",
    "    %p 读入一个指针  \n",
    "    %u 读入一个无符号十进制整数  \n",
    "    %n 至此已读入值的等价字符数  \n",
    "    %[] 扫描字符集合  \n",
    "    %% 读%符号  "
   ]
  },
  {
   "cell_type": "code",
   "execution_count": 21,
   "metadata": {},
   "outputs": [
    {
     "name": "stdout",
     "output_type": "stream",
     "text": [
      "I love %s\n",
      "I love Python\n",
      "I love Java\n"
     ]
    }
   ],
   "source": [
    "# %s表示简单的字符串\n",
    "# 占位符可以单独使用\n",
    "\n",
    "s = \"I love %s\"\n",
    "print(s)\n",
    "\n",
    "print(s%\"Python\")\n",
    "\n",
    "print(s%\"Java\")"
   ]
  },
  {
   "cell_type": "code",
   "execution_count": 24,
   "metadata": {},
   "outputs": [
    {
     "name": "stdout",
     "output_type": "stream",
     "text": [
      "I love C++\n",
      "I love 100\n"
     ]
    }
   ],
   "source": [
    "print(\"I love %s\"%\"C++\")\n",
    "# 占位符一般只能被同类型替换，或者替换类型能被转换成占位符的类型\n",
    "# 以下案例属于特例\n",
    "print(\"I love %s\"%100)"
   ]
  },
  {
   "cell_type": "code",
   "execution_count": 28,
   "metadata": {
    "scrolled": true
   },
   "outputs": [
    {
     "name": "stdout",
     "output_type": "stream",
     "text": [
      "我今年 19 岁了，该发奋了\n"
     ]
    }
   ],
   "source": [
    "s = \"我今年 %d 岁了，该发奋了\"\n",
    "print(s%19)"
   ]
  },
  {
   "cell_type": "code",
   "execution_count": 34,
   "metadata": {},
   "outputs": [
    {
     "name": "stdout",
     "output_type": "stream",
     "text": [
      "I am %fKG weight,%fm Heigh\n",
      "I am 71.500000KG weight,1.720000m Heigh\n",
      "I am 71.50KG weight,1.72m Heigh\n"
     ]
    }
   ],
   "source": [
    "s = \"I am %fKG weight,%fm Heigh\"\n",
    "\n",
    "print(s)\n",
    "\n",
    "# 如果需要格式化的信息多于一个，则用括号括起来就可以\n",
    "# 如以下例子，实际需要格式化的为4处，但是给出的数据为三个，则报错\n",
    "\n",
    "print(s%(71.5,1.72))\n",
    "\n",
    "s = \"I am %.2fKG weight,%.2fm Heigh\"\n",
    "print(s%(71.5,1.72))"
   ]
  },
  {
   "cell_type": "markdown",
   "metadata": {},
   "source": [
    "# format格式化\n",
    "- 使用函数形式进行格式化，代替以前的百分号\n"
   ]
  },
  {
   "cell_type": "code",
   "execution_count": 52,
   "metadata": {
    "scrolled": true
   },
   "outputs": [
    {
     "name": "stdout",
     "output_type": "stream",
     "text": [
      "hello world!\n",
      "hello world!\n",
      "hello world!\n",
      "world hello!\n",
      "I love hello and hello love me!\n",
      "我们是北京图灵学院，我们的网址是www.tulingxueyuan.com，我最帅\n",
      "我们是北京图灵学院，我们的网址是www.tulingxueyuan.com，我最帅\n"
     ]
    }
   ],
   "source": [
    "# 不用指定位置，按顺序读取\n",
    "# 方式一\n",
    "s = \"{} {}!\"\n",
    "print(s.format(\"hello\",\"world\"))\n",
    "\n",
    "# 方式二\n",
    "s = \"{} {}!\".format(\"hello\",\"world\")\n",
    "print(s) # 相当于打印hello world\n",
    "\n",
    "# 设置和指定位置\n",
    "s = \"{0} {1}!\".format(\"hello\",\"world\")\n",
    "print(s)\n",
    "\n",
    "# 设置和指定位置\n",
    "s = \"{1} {0}!\".format(\"hello\",\"world\")\n",
    "print(s)\n",
    "\n",
    "# 设置和指定位置\n",
    "s = \"I love {0} and {0} love me!\".format(\"hello\")\n",
    "print(s)\n",
    "\n",
    "# 下面案例报错，跟上面的案例进行对比\n",
    "# s = \"I love {} and {} love me!\".format(\"hello\")\n",
    "\n",
    "# 使用命名参数\n",
    "s = \"我们是{school_name}，我们的网址是{url}，{teacher}最帅\"\n",
    "s = s.format(school_name=\"北京图灵学院\",url=\"www.tulingxueyuan.com\",teacher=\"我\")\n",
    "print(s)\n",
    "\n",
    "\n",
    "s_dict = {\"school_name\":\"北京图灵学院\",\\\n",
    "         \"url\":\"www.tulingxueyuan.com\",\"teacher\":\"我\"}\n",
    "print(s.format(s_dict))"
   ]
  },
  {
   "cell_type": "code",
   "execution_count": 57,
   "metadata": {},
   "outputs": [
    {
     "name": "stdout",
     "output_type": "stream",
     "text": [
      "Liu Dana is 1.72m heigh,71.50KG weight\n",
      "format函数是使用{{}}来进行占位的\n"
     ]
    }
   ],
   "source": [
    "# 对数字的格式化需要用到\n",
    "s = \"Liu Dana is {:.2f}m heigh,{:.2f}KG weight\"\n",
    "print(s.format(1.72,71.5))\n",
    "\n",
    "# ^,<,>分别是居中、左对齐、右对齐，后面带宽度\n",
    "# ：号后面带填充的字符，只能是一个字符，不指定则默认用空格填充\n",
    "# +表示在正数前显示+，负数前显示-；（空格）表示在正数前加空格\n",
    "# b、d、o、x分别是二进制、十进制、八进制、十六进制\n",
    "# 此外我们可以使用大括号{}来转移大括号。\n",
    "\n",
    "# 大括号转义案例\n",
    "s = \"format函数是使用{{}}来进行占位的\"\n",
    "print(s)"
   ]
  },
  {
   "cell_type": "markdown",
   "metadata": {},
   "source": [
    "# str内嵌函数\n",
    "- 很多语言字符串使用string来表示，但是Python中使用str表示字符串"
   ]
  },
  {
   "cell_type": "code",
   "execution_count": 1,
   "metadata": {},
   "outputs": [
    {
     "name": "stdout",
     "output_type": "stream",
     "text": [
      "Help on class str in module builtins:\n",
      "\n",
      "class str(object)\n",
      " |  str(object='') -> str\n",
      " |  str(bytes_or_buffer[, encoding[, errors]]) -> str\n",
      " |  \n",
      " |  Create a new string object from the given object. If encoding or\n",
      " |  errors is specified, then the object must expose a data buffer\n",
      " |  that will be decoded using the given encoding and error handler.\n",
      " |  Otherwise, returns the result of object.__str__() (if defined)\n",
      " |  or repr(object).\n",
      " |  encoding defaults to sys.getdefaultencoding().\n",
      " |  errors defaults to 'strict'.\n",
      " |  \n",
      " |  Methods defined here:\n",
      " |  \n",
      " |  __add__(self, value, /)\n",
      " |      Return self+value.\n",
      " |  \n",
      " |  __contains__(self, key, /)\n",
      " |      Return key in self.\n",
      " |  \n",
      " |  __eq__(self, value, /)\n",
      " |      Return self==value.\n",
      " |  \n",
      " |  __format__(self, format_spec, /)\n",
      " |      Return a formatted version of the string as described by format_spec.\n",
      " |  \n",
      " |  __ge__(self, value, /)\n",
      " |      Return self>=value.\n",
      " |  \n",
      " |  __getattribute__(self, name, /)\n",
      " |      Return getattr(self, name).\n",
      " |  \n",
      " |  __getitem__(self, key, /)\n",
      " |      Return self[key].\n",
      " |  \n",
      " |  __getnewargs__(...)\n",
      " |  \n",
      " |  __gt__(self, value, /)\n",
      " |      Return self>value.\n",
      " |  \n",
      " |  __hash__(self, /)\n",
      " |      Return hash(self).\n",
      " |  \n",
      " |  __iter__(self, /)\n",
      " |      Implement iter(self).\n",
      " |  \n",
      " |  __le__(self, value, /)\n",
      " |      Return self<=value.\n",
      " |  \n",
      " |  __len__(self, /)\n",
      " |      Return len(self).\n",
      " |  \n",
      " |  __lt__(self, value, /)\n",
      " |      Return self<value.\n",
      " |  \n",
      " |  __mod__(self, value, /)\n",
      " |      Return self%value.\n",
      " |  \n",
      " |  __mul__(self, value, /)\n",
      " |      Return self*value.\n",
      " |  \n",
      " |  __ne__(self, value, /)\n",
      " |      Return self!=value.\n",
      " |  \n",
      " |  __repr__(self, /)\n",
      " |      Return repr(self).\n",
      " |  \n",
      " |  __rmod__(self, value, /)\n",
      " |      Return value%self.\n",
      " |  \n",
      " |  __rmul__(self, value, /)\n",
      " |      Return value*self.\n",
      " |  \n",
      " |  __sizeof__(self, /)\n",
      " |      Return the size of the string in memory, in bytes.\n",
      " |  \n",
      " |  __str__(self, /)\n",
      " |      Return str(self).\n",
      " |  \n",
      " |  capitalize(self, /)\n",
      " |      Return a capitalized version of the string.\n",
      " |      \n",
      " |      More specifically, make the first character have upper case and the rest lower\n",
      " |      case.\n",
      " |  \n",
      " |  casefold(self, /)\n",
      " |      Return a version of the string suitable for caseless comparisons.\n",
      " |  \n",
      " |  center(self, width, fillchar=' ', /)\n",
      " |      Return a centered string of length width.\n",
      " |      \n",
      " |      Padding is done using the specified fill character (default is a space).\n",
      " |  \n",
      " |  count(...)\n",
      " |      S.count(sub[, start[, end]]) -> int\n",
      " |      \n",
      " |      Return the number of non-overlapping occurrences of substring sub in\n",
      " |      string S[start:end].  Optional arguments start and end are\n",
      " |      interpreted as in slice notation.\n",
      " |  \n",
      " |  encode(self, /, encoding='utf-8', errors='strict')\n",
      " |      Encode the string using the codec registered for encoding.\n",
      " |      \n",
      " |      encoding\n",
      " |        The encoding in which to encode the string.\n",
      " |      errors\n",
      " |        The error handling scheme to use for encoding errors.\n",
      " |        The default is 'strict' meaning that encoding errors raise a\n",
      " |        UnicodeEncodeError.  Other possible values are 'ignore', 'replace' and\n",
      " |        'xmlcharrefreplace' as well as any other name registered with\n",
      " |        codecs.register_error that can handle UnicodeEncodeErrors.\n",
      " |  \n",
      " |  endswith(...)\n",
      " |      S.endswith(suffix[, start[, end]]) -> bool\n",
      " |      \n",
      " |      Return True if S ends with the specified suffix, False otherwise.\n",
      " |      With optional start, test S beginning at that position.\n",
      " |      With optional end, stop comparing S at that position.\n",
      " |      suffix can also be a tuple of strings to try.\n",
      " |  \n",
      " |  expandtabs(self, /, tabsize=8)\n",
      " |      Return a copy where all tab characters are expanded using spaces.\n",
      " |      \n",
      " |      If tabsize is not given, a tab size of 8 characters is assumed.\n",
      " |  \n",
      " |  find(...)\n",
      " |      S.find(sub[, start[, end]]) -> int\n",
      " |      \n",
      " |      Return the lowest index in S where substring sub is found,\n",
      " |      such that sub is contained within S[start:end].  Optional\n",
      " |      arguments start and end are interpreted as in slice notation.\n",
      " |      \n",
      " |      Return -1 on failure.\n",
      " |  \n",
      " |  format(...)\n",
      " |      S.format(*args, **kwargs) -> str\n",
      " |      \n",
      " |      Return a formatted version of S, using substitutions from args and kwargs.\n",
      " |      The substitutions are identified by braces ('{' and '}').\n",
      " |  \n",
      " |  format_map(...)\n",
      " |      S.format_map(mapping) -> str\n",
      " |      \n",
      " |      Return a formatted version of S, using substitutions from mapping.\n",
      " |      The substitutions are identified by braces ('{' and '}').\n",
      " |  \n",
      " |  index(...)\n",
      " |      S.index(sub[, start[, end]]) -> int\n",
      " |      \n",
      " |      Return the lowest index in S where substring sub is found, \n",
      " |      such that sub is contained within S[start:end].  Optional\n",
      " |      arguments start and end are interpreted as in slice notation.\n",
      " |      \n",
      " |      Raises ValueError when the substring is not found.\n",
      " |  \n",
      " |  isalnum(self, /)\n",
      " |      Return True if the string is an alpha-numeric string, False otherwise.\n",
      " |      \n",
      " |      A string is alpha-numeric if all characters in the string are alpha-numeric and\n",
      " |      there is at least one character in the string.\n",
      " |  \n",
      " |  isalpha(self, /)\n",
      " |      Return True if the string is an alphabetic string, False otherwise.\n",
      " |      \n",
      " |      A string is alphabetic if all characters in the string are alphabetic and there\n",
      " |      is at least one character in the string.\n",
      " |  \n",
      " |  isascii(self, /)\n",
      " |      Return True if all characters in the string are ASCII, False otherwise.\n",
      " |      \n",
      " |      ASCII characters have code points in the range U+0000-U+007F.\n",
      " |      Empty string is ASCII too.\n",
      " |  \n",
      " |  isdecimal(self, /)\n",
      " |      Return True if the string is a decimal string, False otherwise.\n",
      " |      \n",
      " |      A string is a decimal string if all characters in the string are decimal and\n",
      " |      there is at least one character in the string.\n",
      " |  \n",
      " |  isdigit(self, /)\n",
      " |      Return True if the string is a digit string, False otherwise.\n",
      " |      \n",
      " |      A string is a digit string if all characters in the string are digits and there\n",
      " |      is at least one character in the string.\n",
      " |  \n",
      " |  isidentifier(self, /)\n",
      " |      Return True if the string is a valid Python identifier, False otherwise.\n",
      " |      \n",
      " |      Use keyword.iskeyword() to test for reserved identifiers such as \"def\" and\n",
      " |      \"class\".\n",
      " |  \n",
      " |  islower(self, /)\n",
      " |      Return True if the string is a lowercase string, False otherwise.\n",
      " |      \n",
      " |      A string is lowercase if all cased characters in the string are lowercase and\n",
      " |      there is at least one cased character in the string.\n",
      " |  \n",
      " |  isnumeric(self, /)\n",
      " |      Return True if the string is a numeric string, False otherwise.\n",
      " |      \n",
      " |      A string is numeric if all characters in the string are numeric and there is at\n",
      " |      least one character in the string.\n",
      " |  \n",
      " |  isprintable(self, /)\n",
      " |      Return True if the string is printable, False otherwise.\n",
      " |      \n",
      " |      A string is printable if all of its characters are considered printable in\n",
      " |      repr() or if it is empty.\n",
      " |  \n",
      " |  isspace(self, /)\n",
      " |      Return True if the string is a whitespace string, False otherwise.\n",
      " |      \n",
      " |      A string is whitespace if all characters in the string are whitespace and there\n",
      " |      is at least one character in the string.\n",
      " |  \n",
      " |  istitle(self, /)\n",
      " |      Return True if the string is a title-cased string, False otherwise.\n",
      " |      \n",
      " |      In a title-cased string, upper- and title-case characters may only\n",
      " |      follow uncased characters and lowercase characters only cased ones.\n",
      " |  \n",
      " |  isupper(self, /)\n",
      " |      Return True if the string is an uppercase string, False otherwise.\n",
      " |      \n",
      " |      A string is uppercase if all cased characters in the string are uppercase and\n",
      " |      there is at least one cased character in the string.\n",
      " |  \n",
      " |  join(self, iterable, /)\n",
      " |      Concatenate any number of strings.\n",
      " |      \n",
      " |      The string whose method is called is inserted in between each given string.\n",
      " |      The result is returned as a new string.\n",
      " |      \n",
      " |      Example: '.'.join(['ab', 'pq', 'rs']) -> 'ab.pq.rs'\n",
      " |  \n",
      " |  ljust(self, width, fillchar=' ', /)\n",
      " |      Return a left-justified string of length width.\n",
      " |      \n",
      " |      Padding is done using the specified fill character (default is a space).\n",
      " |  \n",
      " |  lower(self, /)\n",
      " |      Return a copy of the string converted to lowercase.\n",
      " |  \n",
      " |  lstrip(self, chars=None, /)\n",
      " |      Return a copy of the string with leading whitespace removed.\n",
      " |      \n",
      " |      If chars is given and not None, remove characters in chars instead.\n",
      " |  \n",
      " |  partition(self, sep, /)\n",
      " |      Partition the string into three parts using the given separator.\n",
      " |      \n",
      " |      This will search for the separator in the string.  If the separator is found,\n",
      " |      returns a 3-tuple containing the part before the separator, the separator\n",
      " |      itself, and the part after it.\n",
      " |      \n",
      " |      If the separator is not found, returns a 3-tuple containing the original string\n",
      " |      and two empty strings.\n",
      " |  \n",
      " |  replace(self, old, new, count=-1, /)\n",
      " |      Return a copy with all occurrences of substring old replaced by new.\n",
      " |      \n",
      " |        count\n",
      " |          Maximum number of occurrences to replace.\n",
      " |          -1 (the default value) means replace all occurrences.\n",
      " |      \n",
      " |      If the optional argument count is given, only the first count occurrences are\n",
      " |      replaced.\n",
      " |  \n",
      " |  rfind(...)\n",
      " |      S.rfind(sub[, start[, end]]) -> int\n",
      " |      \n",
      " |      Return the highest index in S where substring sub is found,\n",
      " |      such that sub is contained within S[start:end].  Optional\n",
      " |      arguments start and end are interpreted as in slice notation.\n",
      " |      \n",
      " |      Return -1 on failure.\n",
      " |  \n",
      " |  rindex(...)\n",
      " |      S.rindex(sub[, start[, end]]) -> int\n",
      " |      \n",
      " |      Return the highest index in S where substring sub is found,\n",
      " |      such that sub is contained within S[start:end].  Optional\n",
      " |      arguments start and end are interpreted as in slice notation.\n",
      " |      \n",
      " |      Raises ValueError when the substring is not found.\n",
      " |  \n",
      " |  rjust(self, width, fillchar=' ', /)\n",
      " |      Return a right-justified string of length width.\n",
      " |      \n",
      " |      Padding is done using the specified fill character (default is a space).\n",
      " |  \n",
      " |  rpartition(self, sep, /)\n",
      " |      Partition the string into three parts using the given separator.\n",
      " |      \n",
      " |      This will search for the separator in the string, starting at the end. If\n",
      " |      the separator is found, returns a 3-tuple containing the part before the\n",
      " |      separator, the separator itself, and the part after it.\n",
      " |      \n",
      " |      If the separator is not found, returns a 3-tuple containing two empty strings\n",
      " |      and the original string.\n",
      " |  \n",
      " |  rsplit(self, /, sep=None, maxsplit=-1)\n",
      " |      Return a list of the words in the string, using sep as the delimiter string.\n",
      " |      \n",
      " |        sep\n",
      " |          The delimiter according which to split the string.\n",
      " |          None (the default value) means split according to any whitespace,\n",
      " |          and discard empty strings from the result.\n",
      " |        maxsplit\n",
      " |          Maximum number of splits to do.\n",
      " |          -1 (the default value) means no limit.\n",
      " |      \n",
      " |      Splits are done starting at the end of the string and working to the front.\n",
      " |  \n",
      " |  rstrip(self, chars=None, /)\n",
      " |      Return a copy of the string with trailing whitespace removed.\n",
      " |      \n",
      " |      If chars is given and not None, remove characters in chars instead.\n",
      " |  \n",
      " |  split(self, /, sep=None, maxsplit=-1)\n",
      " |      Return a list of the words in the string, using sep as the delimiter string.\n",
      " |      \n",
      " |      sep\n",
      " |        The delimiter according which to split the string.\n",
      " |        None (the default value) means split according to any whitespace,\n",
      " |        and discard empty strings from the result.\n",
      " |      maxsplit\n",
      " |        Maximum number of splits to do.\n",
      " |        -1 (the default value) means no limit.\n",
      " |  \n",
      " |  splitlines(self, /, keepends=False)\n",
      " |      Return a list of the lines in the string, breaking at line boundaries.\n",
      " |      \n",
      " |      Line breaks are not included in the resulting list unless keepends is given and\n",
      " |      true.\n",
      " |  \n",
      " |  startswith(...)\n",
      " |      S.startswith(prefix[, start[, end]]) -> bool\n",
      " |      \n",
      " |      Return True if S starts with the specified prefix, False otherwise.\n",
      " |      With optional start, test S beginning at that position.\n",
      " |      With optional end, stop comparing S at that position.\n",
      " |      prefix can also be a tuple of strings to try.\n",
      " |  \n",
      " |  strip(self, chars=None, /)\n",
      " |      Return a copy of the string with leading and trailing whitespace removed.\n",
      " |      \n",
      " |      If chars is given and not None, remove characters in chars instead.\n",
      " |  \n",
      " |  swapcase(self, /)\n",
      " |      Convert uppercase characters to lowercase and lowercase characters to uppercase.\n",
      " |  \n",
      " |  title(self, /)\n",
      " |      Return a version of the string where each word is titlecased.\n",
      " |      \n",
      " |      More specifically, words start with uppercased characters and all remaining\n",
      " |      cased characters have lower case.\n",
      " |  \n",
      " |  translate(self, table, /)\n",
      " |      Replace each character in the string using the given translation table.\n",
      " |      \n",
      " |        table\n",
      " |          Translation table, which must be a mapping of Unicode ordinals to\n",
      " |          Unicode ordinals, strings, or None.\n",
      " |      \n",
      " |      The table must implement lookup/indexing via __getitem__, for instance a\n",
      " |      dictionary or list.  If this operation raises LookupError, the character is\n",
      " |      left untouched.  Characters mapped to None are deleted.\n",
      " |  \n",
      " |  upper(self, /)\n",
      " |      Return a copy of the string converted to uppercase.\n",
      " |  \n",
      " |  zfill(self, width, /)\n",
      " |      Pad a numeric string with zeros on the left, to fill a field of the given width.\n",
      " |      \n",
      " |      The string is never truncated.\n",
      " |  \n",
      " |  ----------------------------------------------------------------------\n",
      " |  Static methods defined here:\n",
      " |  \n",
      " |  __new__(*args, **kwargs) from builtins.type\n",
      " |      Create and return a new object.  See help(type) for accurate signature.\n",
      " |  \n",
      " |  maketrans(x, y=None, z=None, /)\n",
      " |      Return a translation table usable for str.translate().\n",
      " |      \n",
      " |      If there is only one argument, it must be a dictionary mapping Unicode\n",
      " |      ordinals (integers) or characters to Unicode ordinals, strings or None.\n",
      " |      Character keys will be then converted to ordinals.\n",
      " |      If there are two arguments, they must be strings of equal length, and\n",
      " |      in the resulting dictionary, each character in x will be mapped to the\n",
      " |      character at the same position in y. If there is a third argument, it\n",
      " |      must be a string, whose characters will be mapped to None in the result.\n",
      "\n"
     ]
    }
   ],
   "source": [
    "help(str)"
   ]
  },
  {
   "cell_type": "markdown",
   "metadata": {},
   "source": [
    "   # str内置函数\n",
    " \n",
    "   - 字符串查找类，find，index，islower\n",
    "   - find：查找字符串中是否包含一个子串，如果找不到则返回-1\n",
    "   - index：查找字符串中是否包含一个子串，如找不到会报错\n",
    "   - rfind,lfind：从左查找或右查找\n",
    "   "
   ]
  },
  {
   "cell_type": "code",
   "execution_count": 5,
   "metadata": {},
   "outputs": [
    {
     "data": {
      "text/plain": [
       "-1"
      ]
     },
     "execution_count": 5,
     "metadata": {},
     "output_type": "execute_result"
    }
   ],
   "source": [
    "s = \"Liu Dana love Wang xiaojing and Zhang xiaojing\"\n",
    "s1 = \"xiaojing\"\n",
    "# 返回第一次发现这个字符串的位置\n",
    "s.find(s1)\n",
    "\n",
    "s2 = \"Wanwan\"\n",
    "s.find(s2)"
   ]
  },
  {
   "cell_type": "code",
   "execution_count": 8,
   "metadata": {},
   "outputs": [
    {
     "data": {
      "text/plain": [
       "19"
      ]
     },
     "execution_count": 8,
     "metadata": {},
     "output_type": "execute_result"
    }
   ],
   "source": [
    "s.index(s1)"
   ]
  },
  {
   "cell_type": "code",
   "execution_count": 11,
   "metadata": {},
   "outputs": [
    {
     "data": {
      "text/plain": [
       "38"
      ]
     },
     "execution_count": 11,
     "metadata": {},
     "output_type": "execute_result"
    }
   ],
   "source": [
    "# 使用的时候还可以使用区间\n",
    "s = \"Liu Dana love Wang xiaojing and Zhang xiaojing\"\n",
    "s1 = \"xiaojing\"\n",
    "\n",
    "# 从下表20开始查找，看能否找到\n",
    "s.find(s1,25)"
   ]
  },
  {
   "cell_type": "markdown",
   "metadata": {},
   "source": [
    "## 判断类函数\n",
    "- 此类函数的特点是一般都用is开头，比如islower\n",
    "- isalpha：判断是否是字母\n",
    "  - 此函数默认的前提是字符串至少包含一个字符，如果没哟u，同样返回False\n",
    "  - 汉字被认为是alpha，所以，此函数不能作为区分英文字母还是孩子的标识，区分中英文的是unicode码\n",
    "  - 注意使用区别，防止被坑\n",
    "- isdigit,isnumeric,isdecimal三个判断数字的函数\n",
    "  - 此类函数不建议使用，在后期爬虫中，判断是否是数字建议采用正则表达式的方式\n",
    "  \n",
    "  \n",
    "      对这三个函数的一个总结是：\n",
    "        digit:\n",
    "          True：Unicode数字，byte数字（单字节），全角数字（双字节），罗马数字\n",
    "          False：汉字数字\n",
    "          Error：无\n",
    "         isdecimal()：\n",
    "          True：Unicode数字，全角数字（双字节）\n",
    "          False：罗马数字，汉字数字\n",
    "          Error：byte数字（单字节）\n",
    "         isnumeric()：\n",
    "          True：Unicode数字，全角数字（双字节），马数字，汉字数字\n",
    "          False：无\n",
    "          Error：byte数字（单字节）\n",
    "- islower："
   ]
  },
  {
   "cell_type": "code",
   "execution_count": 14,
   "metadata": {},
   "outputs": [
    {
     "name": "stdout",
     "output_type": "stream",
     "text": [
      "False\n",
      "False\n",
      "False\n"
     ]
    }
   ],
   "source": [
    "# 以下三个都不是的，因为又出了字母意外的空格等\n",
    "s1 = \"我们对着灯发誓，刘大拿同学是爱着王晓静的\"\n",
    "s2 = \"bengberba is friend of baberbeng\"\n",
    "s3 = \"TuLingXueYuan.com is the 1.st\"\n",
    "\n",
    "print(s1.isalpha())\n",
    "print(s2.isalpha())\n",
    "print(s3.isalpha())"
   ]
  },
  {
   "cell_type": "code",
   "execution_count": 19,
   "metadata": {},
   "outputs": [
    {
     "name": "stdout",
     "output_type": "stream",
     "text": [
      "False\n",
      "True\n",
      "False\n"
     ]
    }
   ],
   "source": [
    "# 需要注意的是，因为输入法的问题，输入罗马数字可能得不到我们想要的结果\n",
    "\n",
    "chin_num = \"一二三四\"\n",
    "print(chin_num.isdigit())\n",
    "print(chin_num.isnumeric())\n",
    "print(chin_num.isdecimal())"
   ]
  },
  {
   "cell_type": "markdown",
   "metadata": {},
   "source": [
    "## 内容判断类\n",
    "- startswith/endswith：是否已XXX开头或者结尾\n",
    "  - 检测某个字符串是否以某个子串开头，常用三个参数\n",
    "  - suffix：被检查的字符串，必须有\n",
    "  - start：检查范围的开始\n",
    "  - end：检查范围的结束\n",
    "- islower/isupper:\n",
    "  "
   ]
  },
  {
   "cell_type": "code",
   "execution_count": 24,
   "metadata": {},
   "outputs": [
    {
     "name": "stdout",
     "output_type": "stream",
     "text": [
      "True\n",
      "True\n"
     ]
    }
   ],
   "source": [
    "dana = \"Liu Dana\"\n",
    "xiaojing = 'Xiao jing'\n",
    "s = 'Liu Dana really love wang Xiao jing'\n",
    "\n",
    "print(s.startswith(dana))\n",
    "print(s.endswith(xiaojing))"
   ]
  },
  {
   "cell_type": "code",
   "execution_count": 26,
   "metadata": {},
   "outputs": [
    {
     "name": "stdout",
     "output_type": "stream",
     "text": [
      "False\n",
      "False\n",
      "True\n",
      "True\n",
      "False\n",
      "False\n"
     ]
    }
   ],
   "source": [
    "s1 = 'Liu Dana love Wang xiaojing' \n",
    "s2 = 'LiuDanaloveWangxiaojing' \n",
    "s3 = 'liudanalovewangxiaojing' \n",
    "# s4包含空格，但空格不影响结果，忽略\n",
    "s4 = 'liu dana love wang xiaojing' \n",
    "s5 = '刘大拿同学是爱过王晓静' \n",
    "\n",
    "print(s1.islower())\n",
    "print(s2.islower())\n",
    "print(s3.islower())\n",
    "print(s4.islower())\n",
    "# 汉字字符串无大小写概念\n",
    "print(s5.islower())\n",
    "print(s5.isupper())"
   ]
  },
  {
   "cell_type": "markdown",
   "metadata": {},
   "source": [
    "## 操作类函数\n",
    "- format：格式化用\n",
    "- strip：这个函数主要作用是删除字符串两边的空格，其实这个函数允许你去定义删除字符串两边的那个字符，只不过如果不指定的话默认是空格。同样还有lstrip和rstrip，此处l和r分别表示左边右边，即删除字符串左边或者右边的指定字符，默认空格。需要注意的是，此处的删除不是删除一个，是指从头开始符合条件的连续字符。"
   ]
  }
 ],
 "metadata": {
  "kernelspec": {
   "display_name": "Python 3",
   "language": "python",
   "name": "python3"
  },
  "language_info": {
   "codemirror_mode": {
    "name": "ipython",
    "version": 3
   },
   "file_extension": ".py",
   "mimetype": "text/x-python",
   "name": "python",
   "nbconvert_exporter": "python",
   "pygments_lexer": "ipython3",
   "version": "3.7.6"
  },
  "toc": {
   "base_numbering": 1,
   "nav_menu": {},
   "number_sections": true,
   "sideBar": true,
   "skip_h1_title": false,
   "title_cell": "Table of Contents",
   "title_sidebar": "Contents",
   "toc_cell": false,
   "toc_position": {},
   "toc_section_display": true,
   "toc_window_display": false
  }
 },
 "nbformat": 4,
 "nbformat_minor": 2
}
