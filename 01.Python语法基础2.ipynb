{
 "cells": [
  {
   "cell_type": "markdown",
   "metadata": {},
   "source": [
    "## 操作类函数\n",
    "- format：格式化用的\n",
    "- strip：这个函数主要作用是删除字符串两套的空格，允许自定义删除字符串两边的那个字符，即删除字符串左边或右边指定字符，默认空调。需要注意的是，此处的删除不是删除一共，是指从头开始符合条件的连续字符。\n"
   ]
  },
  {
   "cell_type": "code",
   "execution_count": 16,
   "metadata": {
    "scrolled": true
   },
   "outputs": [
    {
     "name": "stdout",
     "output_type": "stream",
     "text": [
      "DDDDnana love xiaojing\n",
      "DDDDnana love xiaojing-----\n",
      "nana love xiaojing \n",
      "nana love xiaojing -----"
     ]
    }
   ],
   "source": [
    "c = 'DDDDnana love xiaojing '\n",
    "# 是否成功删除两边空格不能观察出来\n",
    "print(c.strip())\n",
    "print(c.strip(),end = '-----')\n",
    "print()\n",
    "\n",
    "print(c.strip('D'))\n",
    "print(c.strip('D'),end = '-----')"
   ]
  },
  {
   "cell_type": "code",
   "execution_count": 19,
   "metadata": {
    "scrolled": true
   },
   "outputs": [
    {
     "name": "stdout",
     "output_type": "stream",
     "text": [
      "Liu Dana$love$xiaojing\n",
      "Liu Dana-love-xiaojing\n",
      "Liu Dana love xiaojing\n"
     ]
    }
   ],
   "source": [
    "# join的例子，使用s1、s2、s3作为分隔符，把ss内的内容拼接再一起\n",
    "s1 = \"$\"\n",
    "s2 = \"-\"\n",
    "s3 = \" \"\n",
    "ss = [\"Liu Dana\",\"love\",\"xiaojing\"]\n",
    "\n",
    "print(s1.join(ss))\n",
    "print(s2.join(ss))\n",
    "print(s3.join(ss))"
   ]
  },
  {
   "cell_type": "markdown",
   "metadata": {},
   "source": [
    "# list列表\n",
    "- 一组有序数据组成的序列\n",
    "  - 数据有先后顺序\n",
    "  - 数据可以不是一类数据\n",
    "- list的创建\n",
    "  - 直接创建，用中括号创建，内容用英文逗号隔开\n",
    "  - 使用list创建\n",
    "  - 列表包含单个字符串是特例"
   ]
  },
  {
   "cell_type": "code",
   "execution_count": 21,
   "metadata": {},
   "outputs": [
    {
     "name": "stdout",
     "output_type": "stream",
     "text": [
      "[1, 2, 3, 4, 5]\n",
      "[1, 2, 3, 'Xiaojing', '大拿']\n"
     ]
    }
   ],
   "source": [
    "L1 = [1,2,3,4,5]\n",
    "L2 = [1,2,3,'Xiaojing','大拿']\n",
    "\n",
    "print(L1)\n",
    "print(L2)"
   ]
  },
  {
   "cell_type": "code",
   "execution_count": 25,
   "metadata": {},
   "outputs": [
    {
     "name": "stdout",
     "output_type": "stream",
     "text": [
      "[]\n",
      "<class 'list'>\n"
     ]
    }
   ],
   "source": [
    "# 创建列表的第二种方式\n",
    "L3 = list()\n",
    "print(list())\n",
    "print(type(L3))"
   ]
  },
  {
   "cell_type": "markdown",
   "metadata": {},
   "source": [
    "# 内置函数的概念\n",
    "- help：帮助函数\n",
    "- type：显示变量的类型\n",
    "- id：显示变量的id"
   ]
  },
  {
   "cell_type": "code",
   "execution_count": 32,
   "metadata": {},
   "outputs": [
    {
     "name": "stdout",
     "output_type": "stream",
     "text": [
      "<class 'list'>\n",
      "['Liu Dana']\n",
      "['L', 'i', 'u', ' ', 'D', 'a', 'n', 'a']\n"
     ]
    }
   ],
   "source": [
    "# list创建的特例演示\n",
    "s = \"Liu Dana\"\n",
    "\n",
    "# 想创建一个只包含一个字符串的列表\n",
    "L1 = [s]\n",
    "L2 = list(s)\n",
    "print(type(L1))\n",
    "print(L1)\n",
    "print(L2)"
   ]
  },
  {
   "cell_type": "markdown",
   "metadata": {},
   "source": [
    "# 列表的常见操作\n",
    "- 访问\n",
    "  - 使用下标操作，也叫索引\n",
    "  - 列表的元素索引是从0开始的\n",
    "- 切片操作\n",
    "  - 对列表进行任意一顿截取\n",
    "  - 截取后创建了一个新的列表"
   ]
  },
  {
   "cell_type": "code",
   "execution_count": 47,
   "metadata": {},
   "outputs": [
    {
     "name": "stdout",
     "output_type": "stream",
     "text": [
      "32\n",
      "[32, 43]\n",
      "[32, 43, 33, 354, 323, 4]\n",
      "[32, 43, 33, 354, 323, 4]\n",
      "88643208   88859336\n",
      "[32, 43, 33, 354]\n",
      "[33, 354, 323, 4]\n",
      "[32, 43, 33, 354, 323, 4]\n"
     ]
    }
   ],
   "source": [
    "# 切片操作需要注意取值范围，左包括右不包括\n",
    "L1 = [32,43,33,354,323,4]\n",
    "# 使用下标访问\n",
    "print(L1[0])\n",
    "print(L1[0:2])\n",
    "\n",
    "# 通过内置函数id可以判断出切片是否生成了全新的列表\n",
    "# id的作用是用来判断两个变量是否一个变量\n",
    "L2 = L1[0:6]\n",
    "print(L1)\n",
    "print(L2)\n",
    "id(L1) is id(L2)\n",
    "print(id(L1),' ',id(L2))\n",
    "\n",
    "\n",
    "# 切片下标可以为空\n",
    "print(L1[:4])\n",
    "print(L1[2:])\n",
    "print(L1[:])\n"
   ]
  },
  {
   "cell_type": "code",
   "execution_count": 51,
   "metadata": {},
   "outputs": [
    {
     "name": "stdout",
     "output_type": "stream",
     "text": [
      "[32, 33, 323]\n"
     ]
    }
   ],
   "source": [
    "# 分片允许定义步长\n",
    "print(L1[::2])"
   ]
  },
  {
   "cell_type": "code",
   "execution_count": 54,
   "metadata": {},
   "outputs": [
    {
     "name": "stdout",
     "output_type": "stream",
     "text": [
      "[32, 43, 33, 354, 323, 4]\n"
     ]
    }
   ],
   "source": [
    "# 下标可已超出范围，超出后不再考虑多余下标内容\n",
    "print(L1[:100])"
   ]
  },
  {
   "cell_type": "code",
   "execution_count": 60,
   "metadata": {},
   "outputs": [
    {
     "name": "stdout",
     "output_type": "stream",
     "text": [
      "[]\n",
      "[323, 354, 33]\n",
      "[33, 354, 323]\n"
     ]
    }
   ],
   "source": [
    "# 下标值，增长幅度可以为负数\n",
    "# 下标为负数，表面顺序是从右往左\n",
    "# 规定：数字最后一个数字的下标是-1\n",
    "\n",
    "# 下面的例子为空，因为默认是从左向右移动\n",
    "print(L1[-2:-5])\n",
    "\n",
    "# 如果想利用负数打印：323,354,33，则步长因设为-1\n",
    "print(L1[-2:-5:-1])\n",
    "\n",
    "# 如果想利用负数打印：33,354,323，则步长设为-\n",
    "print(L1[-4:-1:1])"
   ]
  },
  {
   "cell_type": "markdown",
   "metadata": {},
   "source": [
    "# tuple（元组）\n",
    "- 可以理解为不允许更改的列表\n"
   ]
  },
  {
   "cell_type": "code",
   "execution_count": 71,
   "metadata": {},
   "outputs": [
    {
     "name": "stdout",
     "output_type": "stream",
     "text": [
      "<class 'tuple'>\n",
      "<class 'int'>\n",
      "<class 'tuple'>\n",
      "(100, 200, 300)\n",
      "<class 'tuple'>\n",
      "<class 'tuple'>\n",
      "()\n",
      "[1, 2, 3, 'ss']\n",
      "(1, 2, 3, 'ss')\n"
     ]
    }
   ],
   "source": [
    "# tuple的创建\n",
    "\n",
    "# 1、直接用小括号\n",
    "ta = ()\n",
    "print(type(ta))\n",
    "\n",
    "# 当用小括号创建一个元素的tuple的时候\n",
    "tb = (100)\n",
    "print(type(tb))\n",
    "tc = (100,)\n",
    "print(type(tc))\n",
    "td = (100,200,300)\n",
    "print(td)\n",
    "\n",
    "# 2、直接用逗号\n",
    "ta = 100,\n",
    "print(type(ta))\n",
    "tb = 100, 200, 300, # 后面可以跟逗号\n",
    "print(type(tb))\n",
    "\n",
    "# 3、使用tuple定义\n",
    "ta = tuple()\n",
    "print(ta)\n",
    "li = [1,2,3,'ss']\n",
    "tb = tuple(li) # 要求tuple参数必须可迭代\n",
    "print(li)\n",
    "print(tb)"
   ]
  },
  {
   "cell_type": "markdown",
   "metadata": {},
   "source": [
    "## tuple其余特征跟list基本一致\n",
    "- 有序\n",
    "- 可以访问不可以被修改\n",
    "- 元素可以是任意类型\n"
   ]
  },
  {
   "cell_type": "code",
   "execution_count": 78,
   "metadata": {},
   "outputs": [
    {
     "name": "stdout",
     "output_type": "stream",
     "text": [
      "('i', 'love', 'wangxiaojing')\n",
      "('i', 'love', 'wangxiaojing')\n",
      "('i', 'love')\n",
      "('wangxiaojing', 'love', 'i')\n"
     ]
    }
   ],
   "source": [
    "# tuple索引操作\n",
    "ta = (\"i\",'love','wangxiaojing')\n",
    "print(ta)\n",
    "\n",
    "# tuple分片操作\n",
    "print(ta[:])\n",
    "print(ta[:2])\n",
    "print(ta[-1::-1])"
   ]
  },
  {
   "cell_type": "code",
   "execution_count": 81,
   "metadata": {},
   "outputs": [
    {
     "name": "stdout",
     "output_type": "stream",
     "text": [
      "(100, 200, 300, 'i', 'love', 'wangxiaojing')\n",
      "('i', 'love', 'wangxiaojing', 'i', 'love', 'wangxiaojing')\n"
     ]
    }
   ],
   "source": [
    "# 元组的相加\n",
    "ta = 100, 200, 300, \n",
    "tb = ('i', 'love', 'wangxiaojing')\n",
    "tc = ta + tb\n",
    "print(tc)\n",
    "\n",
    "# 元组的乘法\n",
    "tc = tb*2\n",
    "print(tc)"
   ]
  },
  {
   "cell_type": "code",
   "execution_count": 87,
   "metadata": {},
   "outputs": [
    {
     "name": "stdout",
     "output_type": "stream",
     "text": [
      "('i', 'love', 'wangxiaojing')\n",
      "对的\n"
     ]
    }
   ],
   "source": [
    "# tuple成员检测\n",
    "print(tb)\n",
    "\n",
    "if 'wangxiaojing' in tb:\n",
    "    print(\"对的\")\n",
    "if 'wangxiaojing' not in tb:\n",
    "    print(\"不爱了\")"
   ]
  },
  {
   "cell_type": "code",
   "execution_count": 92,
   "metadata": {},
   "outputs": [
    {
     "name": "stdout",
     "output_type": "stream",
     "text": [
      "i\n",
      "love\n",
      "wangxiaojing\n",
      "10\n",
      "20\n",
      "30\n",
      "i\n",
      "love\n",
      "wangxiaojing\n",
      "10 20 30\n",
      "i love wangxiaojing\n"
     ]
    }
   ],
   "source": [
    "# 元组遍历\n",
    "for i in tb:\n",
    "    print(i)\n",
    "    \n",
    "# 元组嵌套的访问\n",
    "ta = ((10,20,30),('i','love','wangxiaojing'))\n",
    "\n",
    "# 1、双层循环访问\n",
    "for i in ta:\n",
    "    for j in i:\n",
    "        print(j)\n",
    "        \n",
    "# 2、使用单层循环\n",
    "for i,j,k in ta:\n",
    "    print(i,j,k)\n",
    "\n",
    "    \n",
    "# 上面的访问有一个规定，即i，j，k要跟元组的元素一一对应\n"
   ]
  },
  {
   "cell_type": "code",
   "execution_count": 99,
   "metadata": {},
   "outputs": [
    {
     "name": "stdout",
     "output_type": "stream",
     "text": [
      "8\n",
      "88\n",
      "1\n"
     ]
    }
   ],
   "source": [
    "# 常用元组函数\n",
    "ta = (1,22,33,44,55,66,77,88)\n",
    "\n",
    "# len：长度\n",
    "# max/min：最大最小值\n",
    "print(len(ta))\n",
    "print(max(ta))\n",
    "print(min(ta))"
   ]
  },
  {
   "cell_type": "code",
   "execution_count": 103,
   "metadata": {},
   "outputs": [
    {
     "name": "stdout",
     "output_type": "stream",
     "text": [
      "5\n",
      "0\n"
     ]
    }
   ],
   "source": [
    "# count:对某一元素计数\n",
    "ta  = (1,2,3,4,22,23,24,1,1,1,1)\n",
    "print(ta.count(1))\n",
    "# index：某一元素所在位置\n",
    "print(ta.index(1))"
   ]
  },
  {
   "cell_type": "code",
   "execution_count": 105,
   "metadata": {},
   "outputs": [
    {
     "name": "stdout",
     "output_type": "stream",
     "text": [
      "100 wang xiaojing\n",
      "wang xiaojing 100\n"
     ]
    }
   ],
   "source": [
    "# tuple的特殊用法 \n",
    "a = 100\n",
    "b = \"wang xiaojing\"\n",
    "#  要求对a，b进行互换\n",
    "# 此种用法是python的独门秘籍\n",
    "\n",
    "print(a,b)\n",
    "a, b = b, a\n",
    "print(a,b)\n"
   ]
  },
  {
   "cell_type": "markdown",
   "metadata": {},
   "source": [
    "# 集合\n",
    "- 跟数学中稽核的概念已知\n",
    "- 内容无序+内容不重复\n"
   ]
  },
  {
   "cell_type": "code",
   "execution_count": 11,
   "metadata": {},
   "outputs": [
    {
     "name": "stdout",
     "output_type": "stream",
     "text": [
      "set()\n",
      "{1, 2, 3, 4, 5, 6, 33, 35, 11, 12, 13, 14}\n",
      "{1, 2, 3, 4, 7777, 234, 12, 21}\n"
     ]
    }
   ],
   "source": [
    "# 集合的定义\n",
    "# 1、通过set关键字\n",
    "sa = set()\n",
    "print(sa)\n",
    "\n",
    "li = [1,2,3,4,5,6,11,12,13,14,33,35,1,2,3,3]\n",
    "sb = set(li)\n",
    "print(sb)\n",
    "\n",
    "# 2、使用大括号\n",
    "sc = {1,2,3,4,1,2,3,4,21,12,1,3,2,7777,234}\n",
    "print(sc)"
   ]
  },
  {
   "cell_type": "code",
   "execution_count": 13,
   "metadata": {},
   "outputs": [
    {
     "name": "stdout",
     "output_type": "stream",
     "text": [
      "2222\n",
      "1\n",
      "2\n",
      "3\n",
      "4\n",
      "7777\n",
      "234\n",
      "12\n",
      "21\n"
     ]
    }
   ],
   "source": [
    "# in操作\n",
    "if 2 in sc:\n",
    "    print(2222)\n",
    "    \n",
    "for i in sc:\n",
    "    print(i)"
   ]
  },
  {
   "cell_type": "code",
   "execution_count": 15,
   "metadata": {},
   "outputs": [
    {
     "name": "stdout",
     "output_type": "stream",
     "text": [
      "4 5 6\n",
      "i love wangxiaojing\n",
      "1 2 3\n"
     ]
    }
   ],
   "source": [
    "# 集合的另一种遍历\n",
    "\n",
    "sa = {(1,2,3),(4,5,6),('i','love','wangxiaojing')}\n",
    "\n",
    "for i,j,k in sa:\n",
    "    print(i,j,k)\n",
    "    "
   ]
  },
  {
   "cell_type": "code",
   "execution_count": 23,
   "metadata": {},
   "outputs": [
    {
     "name": "stdout",
     "output_type": "stream",
     "text": [
      "{1, 2, 3, 4, 5, 6, 7, 8, 9, 10}\n",
      "{2, 4, 6, 8, 10}\n",
      "{64, 1, 4, 36, 100, 9, 16, 49, 81, 25}\n",
      "{1, 2, 3, 4, 5, 6, 7, 8, 9, 10, 12, 14, 15, 16, 18, 20, 21, 24, 25, 27, 28, 30, 32, 35, 36, 40, 42, 45, 48, 49, 50, 54, 56, 60, 63, 64, 70, 72, 80, 81, 90, 100}\n"
     ]
    }
   ],
   "source": [
    "# 集合的生成式\n",
    "sa = {1,2,3,4,5,6,7,8,9,10}\n",
    "\n",
    "# 利用sa生成一个sb\n",
    "sb = {i for i in sa}\n",
    "print(sb)\n",
    "\n",
    "sc = {i for i in sa if i % 2 ==0}\n",
    "print(sc)\n",
    "\n",
    "# 双重for循环\n",
    "# 把sa中的每一个元素的平方生成一个新的集合\n",
    "# 1、用一个for\n",
    "sd = {i**2 for i in sa }\n",
    "print(sd)\n",
    "\n",
    "# 2、使用两个for\n",
    "se = {m*n for m in sa for n in sa}\n",
    "print(se)"
   ]
  },
  {
   "cell_type": "code",
   "execution_count": 29,
   "metadata": {},
   "outputs": [
    {
     "name": "stdout",
     "output_type": "stream",
     "text": [
      "42\n",
      "{1, 2, 3, 4, 5, 6}\n",
      "None\n",
      "{1, 2, 3, 4, 5, 6, 7}\n"
     ]
    }
   ],
   "source": [
    "# 集合的内嵌函数\n",
    "# len：长度\n",
    "print(len(se))\n",
    "# max/min：最大值最小值\n",
    "# add：向集合中添加元素\n",
    "sa = {1,2,3,4,5,6,5,4,3,2,1}\n",
    "print(sa)\n",
    "# 打印结果不是sa\n",
    "print(sa.add(7))\n",
    "print(sa)\n",
    "\n",
    "# clear：清空\n"
   ]
  },
  {
   "cell_type": "code",
   "execution_count": 36,
   "metadata": {},
   "outputs": [
    {
     "name": "stdout",
     "output_type": "stream",
     "text": [
      "{1, 2, 3, 4, 5, 6, 7}\n",
      "{1, 2, 3, 4, 6, 7}\n"
     ]
    },
    {
     "ename": "KeyError",
     "evalue": "5",
     "output_type": "error",
     "traceback": [
      "\u001b[1;31m---------------------------------------------------------------------------\u001b[0m",
      "\u001b[1;31mKeyError\u001b[0m                                  Traceback (most recent call last)",
      "\u001b[1;32m<ipython-input-36-975f53a80e51>\u001b[0m in \u001b[0;36m<module>\u001b[1;34m\u001b[0m\n\u001b[0;32m      6\u001b[0m \u001b[0mprint\u001b[0m\u001b[1;33m(\u001b[0m\u001b[0msa\u001b[0m\u001b[1;33m)\u001b[0m\u001b[1;33m\u001b[0m\u001b[1;33m\u001b[0m\u001b[0m\n\u001b[0;32m      7\u001b[0m \u001b[1;31m# remove删除的值如果不在集合中，报错\u001b[0m\u001b[1;33m\u001b[0m\u001b[1;33m\u001b[0m\u001b[1;33m\u001b[0m\u001b[0m\n\u001b[1;32m----> 8\u001b[1;33m \u001b[0msa\u001b[0m\u001b[1;33m.\u001b[0m\u001b[0mremove\u001b[0m\u001b[1;33m(\u001b[0m\u001b[1;36m5\u001b[0m\u001b[1;33m)\u001b[0m\u001b[1;33m\u001b[0m\u001b[1;33m\u001b[0m\u001b[0m\n\u001b[0m",
      "\u001b[1;31mKeyError\u001b[0m: 5"
     ]
    }
   ],
   "source": [
    "# 删除操作\n",
    "# remove和discard的区别\n",
    "sa = {1,2,3,4,5,6,7}\n",
    "print(sa)\n",
    "sa.remove(5)\n",
    "print(sa)\n",
    "# remove删除的值如果不在集合中，报错\n",
    "sa.remove(5)"
   ]
  },
  {
   "cell_type": "code",
   "execution_count": 40,
   "metadata": {},
   "outputs": [
    {
     "name": "stdout",
     "output_type": "stream",
     "text": [
      "{1, 2, 3, 4, 5, 6, 7}\n",
      "{1, 2, 3, 4, 6, 7}\n",
      "{1, 2, 3, 4, 6, 7}\n"
     ]
    }
   ],
   "source": [
    "sa = {1,2,3,4,5,6,7}\n",
    "print(sa)\n",
    "sa.discard(5)\n",
    "print(sa)\n",
    "# discard删除的值如果不在集合中，不报错\n",
    "sa.discard(5)\n",
    "print(sa)"
   ]
  },
  {
   "cell_type": "code",
   "execution_count": 52,
   "metadata": {},
   "outputs": [
    {
     "name": "stdout",
     "output_type": "stream",
     "text": [
      "{1, 2, 3, 4, 5, 6, 7}\n",
      "{2, 3, 4, 5, 6, 7}\n"
     ]
    }
   ],
   "source": [
    "# pop弹出集合的一个内容\n",
    "# 删除的内容是随机的\n",
    "# 删除的内容没有规律，随机\n",
    "sa = {1,2,3,4,5,6,7}\n",
    "print(sa)\n",
    "sa.pop()\n",
    "print(sa)\n"
   ]
  },
  {
   "cell_type": "code",
   "execution_count": 57,
   "metadata": {},
   "outputs": [
    {
     "name": "stdout",
     "output_type": "stream",
     "text": [
      "{4, 5, 6}\n",
      "{1, 2, 3}\n",
      "{1, 2, 3}\n",
      "{1, 2, 3, 4, 5, 6, 7, 8, 9}\n"
     ]
    }
   ],
   "source": [
    "# 集合的数学操作\n",
    "# intersection：交集\n",
    "sa = {1,2,3,4,5,6}\n",
    "sb = {4,5,6,7,8,9}\n",
    "# sa和sb的交集\n",
    "print(sa.intersection(sb))\n",
    "\n",
    "# difference：差集\n",
    "print(sa.difference(sb))\n",
    "\n",
    "# 差集的另一种表示\n",
    "print(sa - sb)\n",
    "# union：并集\n",
    "print(sa.union(sb))\n"
   ]
  },
  {
   "cell_type": "raw",
   "metadata": {},
   "source": [
    "# frozenset 冰冻集合\n",
    "- 不允许修改的集合\n"
   ]
  },
  {
   "cell_type": "code",
   "execution_count": 59,
   "metadata": {},
   "outputs": [
    {
     "name": "stdout",
     "output_type": "stream",
     "text": [
      "{1, 2, 3, 4, 5, 6}\n",
      "frozenset({1, 2, 3, 4, 5, 6})\n"
     ]
    }
   ],
   "source": [
    "# 案例\n",
    "print(sa)\n",
    "sb = frozenset(sa)\n",
    "print(sb)"
   ]
  },
  {
   "cell_type": "markdown",
   "metadata": {},
   "source": [
    "# 递归函数\n",
    "- 递归：函数间接或者直接调用自己\n",
    "- 递归分两个过程：\n",
    "  - 往下调用，分解的过程\n",
    "  - 往上回溯，综合的过程\n",
    "- 递归需要注意\n",
    "  - 一定要有结束条件\n",
    "- 是以资源换取编写速度的算法\n",
    "  "
   ]
  },
  {
   "cell_type": "code",
   "execution_count": 64,
   "metadata": {},
   "outputs": [
    {
     "name": "stdout",
     "output_type": "stream",
     "text": [
      "I am liu dana\n",
      "I am wangxiaojing\n"
     ]
    }
   ],
   "source": [
    "def funa(n):\n",
    "    print(\"I am liu dana\")\n",
    "def funb(n):\n",
    "    funa(100)\n",
    "    print(\"I am wangxiaojing\")\n",
    "\n",
    "funb(100)"
   ]
  },
  {
   "cell_type": "code",
   "execution_count": 73,
   "metadata": {},
   "outputs": [
    {
     "name": "stdout",
     "output_type": "stream",
     "text": [
      "5\n",
      "4\n",
      "3\n",
      "2\n",
      "1\n",
      "f(5) =  120\n"
     ]
    }
   ],
   "source": [
    "# fun_a表示数学公式计算阶乘\n",
    "\n",
    "def fun_a(n):\n",
    "    print(n)\n",
    "    if n== 1:\n",
    "        return 1\n",
    "    \n",
    "    return n*fun_a(n-1)\n",
    "\n",
    "\n",
    "rst = fun_a(5)\n",
    "print(\"f(5) = \",rst)"
   ]
  },
  {
   "cell_type": "code",
   "execution_count": 78,
   "metadata": {},
   "outputs": [
    {
     "name": "stdout",
     "output_type": "stream",
     "text": [
      "10\n",
      "9\n",
      "8\n",
      "7\n",
      "6\n",
      "5\n",
      "4\n",
      "3\n",
      "2\n",
      "1\n"
     ]
    },
    {
     "data": {
      "text/plain": [
       "3628800"
      ]
     },
     "execution_count": 78,
     "metadata": {},
     "output_type": "execute_result"
    }
   ],
   "source": [
    "# 递归必须有结束条件，否则会死掉\n",
    "def fun_b(n):\n",
    "    print(n)\n",
    "    if n == 1:\n",
    "        return 1\n",
    "    return n * fun_b(n-1)\n",
    "fun_b(10)"
   ]
  },
  {
   "cell_type": "code",
   "execution_count": 82,
   "metadata": {},
   "outputs": [
    {
     "name": "stdout",
     "output_type": "stream",
     "text": [
      "f(10) =  55\n"
     ]
    }
   ],
   "source": [
    "# 斐波那契数列\n",
    "# 数学定义：斐波那契数列（Fibonacci sequence），又称黄金分割数列、\n",
    "# 因数学家列昂纳多·斐波那契（Leonardoda Fibonacci）以兔子繁殖为例子而引入，故又称为“兔子数列”，\n",
    "# 指的是这样一个数列：1、1、2、3、5、8、13、21、34、……\n",
    "# 在数学上，斐波那契数列以如下被以递推的方法定义：F(1)=1，F(2)=1, F(n)=F(n - 1)+F(n - 2)（n ≥ 3，n ∈ N*）\n",
    "\n",
    "def fib(n):\n",
    "    if n==1 or n==2:\n",
    "        return 1\n",
    "    return fib(n-1) + fib(n-2)\n",
    "\n",
    "rst = fib(10)\n",
    "print(\"f(10) = \",rst)"
   ]
  },
  {
   "cell_type": "code",
   "execution_count": 84,
   "metadata": {},
   "outputs": [],
   "source": [
    "# 汉诺塔\n",
    "a = 'A'\n",
    "b = 'B'\n",
    "c = 'C'\n",
    "def hano(a,b,c,n):\n",
    "    if n == 1:\n",
    "        print('{}-->{}'.format(a,c))\n",
    "        return None\n",
    "    if n == 2:\n",
    "        print('{}-->{}'.format(a,c))\n",
    "        print('{}-->{}'.format(a,b))\n",
    "        print('{}-->{}'.format(b,c))\n",
    "        return None\n",
    "    \n",
    "    hano(a,c,b,n-1)\n",
    "    print('{}-->{}'.format(a,c))\n",
    "    hano(b,a,c,n-1)\n",
    "    "
   ]
  },
  {
   "cell_type": "code",
   "execution_count": 86,
   "metadata": {},
   "outputs": [
    {
     "name": "stdout",
     "output_type": "stream",
     "text": [
      "A-->C\n"
     ]
    }
   ],
   "source": [
    "# 只有一个盘子\n",
    "hano(a,b,c,1)"
   ]
  },
  {
   "cell_type": "code",
   "execution_count": 88,
   "metadata": {},
   "outputs": [
    {
     "name": "stdout",
     "output_type": "stream",
     "text": [
      "A-->C\n",
      "A-->B\n",
      "B-->C\n"
     ]
    }
   ],
   "source": [
    "# 只有两个盘子\n",
    "hano(a,b,c,2)"
   ]
  },
  {
   "cell_type": "code",
   "execution_count": 90,
   "metadata": {},
   "outputs": [
    {
     "name": "stdout",
     "output_type": "stream",
     "text": [
      "A-->B\n",
      "A-->C\n",
      "C-->B\n",
      "A-->C\n",
      "B-->C\n",
      "B-->A\n",
      "A-->C\n",
      "A-->B\n",
      "C-->A\n",
      "C-->B\n",
      "B-->A\n",
      "C-->B\n",
      "A-->B\n",
      "A-->C\n",
      "C-->B\n",
      "A-->C\n",
      "B-->C\n",
      "B-->A\n",
      "A-->C\n",
      "B-->A\n",
      "C-->A\n",
      "C-->B\n",
      "B-->A\n",
      "B-->C\n",
      "A-->B\n",
      "A-->C\n",
      "C-->B\n",
      "A-->C\n",
      "B-->C\n",
      "B-->A\n",
      "A-->C\n"
     ]
    }
   ],
   "source": [
    "# 五个盘子\n",
    "hano(a,b,c,5)"
   ]
  },
  {
   "cell_type": "code",
   "execution_count": 2,
   "metadata": {},
   "outputs": [
    {
     "name": "stdout",
     "output_type": "stream",
     "text": [
      "Help on method_descriptor:\n",
      "\n",
      "find(...)\n",
      "    S.find(sub[, start[, end]]) -> int\n",
      "    \n",
      "    Return the lowest index in S where substring sub is found,\n",
      "    such that sub is contained within S[start:end].  Optional\n",
      "    arguments start and end are interpreted as in slice notation.\n",
      "    \n",
      "    Return -1 on failure.\n",
      "\n"
     ]
    }
   ],
   "source": [
    "s = \"Hello world\"\n",
    "s.find(\"o\",5,7)\n",
    "help(str.find)"
   ]
  },
  {
   "cell_type": "markdown",
   "metadata": {},
   "source": [
    "# OOP（Object Oriented Programming）\n",
    "- 思想\n",
    "  -以模块化思想解决工程问题\n",
    "  - 面向过程 VS 面向对象\n",
    "  - 由面向过程转向面向对象\n",
    "  - 例子，我要开一个学校，叫轻羽学院，主要讲少儿编程：\n",
    "    - 讲师\n",
    "    - 学生\n",
    "    - 班主任\n",
    "    - 教室\n",
    "    - 学校\n",
    "- 常用名词\n",
    "  - OO：面向对象\n",
    "  - ooa:分析\n",
    "  - ood：设计\n",
    "  - oop：编程\n",
    "  - ooi：实现、\n",
    "  - ooa -> ood -> ooi\n",
    " \n",
    "- 类 VS 对象\n",
    "  - 类：抽象，描述的是一个集合，侧重于共性\n",
    "  - 对象：具象，描述的是个体\n",
    "  - 一个对象是组成一个类的一个个体\n",
    "\n",
    "- 类的内容：\n",
    "  - 动作，函数\n",
    "  - 属性，变量\n",
    "- is-a\n",
    "\n",
    "- 定义类：class关键字\n",
    "- 类命名：\n",
    "  - 遵循大驼峰\n",
    "  - 第一个字母大写\n",
    "  \n",
    "  \n",
    "    "
   ]
  },
  {
   "cell_type": "code",
   "execution_count": 3,
   "metadata": {},
   "outputs": [],
   "source": [
    "## 定义学生类，和几个学生\n",
    "\n",
    "class Student():\n",
    "    # 此处定义一个空类\n",
    "    # pass是关键字，表示占位用的，无意义\n",
    "    pass\n"
   ]
  },
  {
   "cell_type": "code",
   "execution_count": 4,
   "metadata": {},
   "outputs": [],
   "source": [
    "# 定义一个对象\n",
    "xiaobai = Student()"
   ]
  },
  {
   "cell_type": "code",
   "execution_count": 6,
   "metadata": {
    "scrolled": true
   },
   "outputs": [
    {
     "name": "stdout",
     "output_type": "stream",
     "text": [
      "NoOne\n",
      "18\n",
      "Python\n"
     ]
    }
   ],
   "source": [
    "# \n",
    "class PythonStudent():\n",
    "    name = \"NoOne\"\n",
    "    age = 18\n",
    "    course = \"Python\"\n",
    "    '''\n",
    "    定义类中的函数\n",
    "    一般需要有self关键字\n",
    "    其余跟普通函数基本相同\n",
    "    '''\n",
    "    \n",
    "    def giveMeMoney(self):\n",
    "        print(\"Show me the money\")\n",
    "        return None\n",
    "    \n",
    "xiaobai = PythonStudent()\n",
    "print(xiaobai.name)\n",
    "print(xiaobai.age)\n",
    "print(xiaobai.course)"
   ]
  },
  {
   "cell_type": "markdown",
   "metadata": {},
   "source": [
    "# 类的属性"
   ]
  },
  {
   "cell_type": "code",
   "execution_count": 28,
   "metadata": {},
   "outputs": [],
   "source": [
    "# 类的例子\n",
    "# 注意类的定义\n",
    "class Student():\n",
    "    name = \"北京图灵学院\"\n",
    "    age = 19\n",
    "    def sayHi(self):\n",
    "        print(\"爱图灵，爱生活\")\n",
    "        # 作业：如果函数没有return，则返回什么？\n",
    "        return None\n",
    "    # self可以更换名字\n",
    "    def sayHai(meme):\n",
    "        print(\"爱咪咪，爱图灵\")"
   ]
  },
  {
   "cell_type": "code",
   "execution_count": 20,
   "metadata": {},
   "outputs": [
    {
     "name": "stdout",
     "output_type": "stream",
     "text": [
      "19\n"
     ]
    }
   ],
   "source": [
    "# 实例化\n",
    "# 作业：中文能否当做变量名称\n",
    "二拿 = Student()\n",
    "print(二拿.age)"
   ]
  },
  {
   "cell_type": "markdown",
   "metadata": {},
   "source": [
    "# self\n",
    "- self可以用别的名称待敌\n",
    "- self不是关键字\n",
    "- 作用是指代本身"
   ]
  },
  {
   "cell_type": "code",
   "execution_count": 30,
   "metadata": {},
   "outputs": [
    {
     "name": "stdout",
     "output_type": "stream",
     "text": [
      "爱图灵，爱生活\n"
     ]
    }
   ],
   "source": [
    "# self举例\n",
    "# 实例调用函数\n",
    "yaoyao = Student()\n",
    "\n",
    "# 让尧尧跟我打声招呼\n",
    "# 类里面函数有参数self，实例不填参数却不会报错，因为默认实例作为第一个参数传入\n",
    "yaoyao.sayHi()\n",
    "\n",
    "# 错误的案例\n",
    "a = \"三拿\"\n",
    "# yaoyao.sayHi(a)\n",
    "\n",
    "# self可以更换名字"
   ]
  },
  {
   "cell_type": "code",
   "execution_count": 31,
   "metadata": {},
   "outputs": [
    {
     "name": "stdout",
     "output_type": "stream",
     "text": [
      "爱咪咪，爱图灵\n"
     ]
    }
   ],
   "source": [
    "yaoyao.sayHai()"
   ]
  },
  {
   "cell_type": "markdown",
   "metadata": {},
   "source": [
    "# 类的变量作用域的问题\n",
    "- 类变量：属于类自己的变量\n",
    "- 实例变量：属于实例的变量\n",
    "- 访问实例的属性，如果实例没有定义属性，则自动访问累的属性，如果类也没有定义属性，则报错"
   ]
  },
  {
   "cell_type": "code",
   "execution_count": 42,
   "metadata": {},
   "outputs": [
    {
     "name": "stdout",
     "output_type": "stream",
     "text": [
      "My name is 北京图灵学院,i am 19 years old\n"
     ]
    }
   ],
   "source": [
    "# 类的例子\n",
    "# 注意类的定义\n",
    "class Student():\n",
    "    # name，age是类的变量\n",
    "    # 注意类的变量的定义位置和方法\n",
    "    # 不需要前缀\n",
    "    name = \"北京图灵学院\"\n",
    "    age = 19\n",
    "    def sayHi(self):\n",
    "        print(\"My name is {},i am {} years old\".format(self.name,self.age))      \n",
    "        return None\n",
    "\n",
    "# 以下案例说明，实例变量可以借用类的变量\n",
    "erjing = Student()\n",
    "erjing.sayHi()"
   ]
  },
  {
   "cell_type": "code",
   "execution_count": 46,
   "metadata": {},
   "outputs": [
    {
     "name": "stdout",
     "output_type": "stream",
     "text": [
      "My name is erjing,i am 17 years old\n",
      "My name is 北京图灵学院,i am 19 years old\n",
      "My name is erjing,i am 17 years old\n"
     ]
    }
   ],
   "source": [
    "class Student2():\n",
    "    # name，age是类的变量\n",
    "    # 注意类的变量的定义位置和方法\n",
    "    # 不需要前缀\n",
    "    name = \"北京图灵学院\"\n",
    "    age = 19\n",
    "    def sayHi(self,n,a):\n",
    "        self.name= n\n",
    "        self.age= a\n",
    "        print(\"My name is {},i am {} years old\".format(self.name,self.age))      \n",
    "        return None\n",
    "\n",
    "# 以下案例说明，实例变量可以借用类的变量\n",
    "erjing = Student2()\n",
    "\n",
    "# 注意观察下面语句打开和关闭后的区别 \n",
    "erjing.sayHi(\"erjing\",17)\n",
    "print(\"My name is {},i am {} years old\".format(Student2.name,Student2.age))   \n",
    "print(\"My name is {},i am {} years old\".format(erjing.name,erjing.age))   \n",
    "# 如果访问实例的属性没有定义吗，则自动访问类的属性\n",
    "# 如果类也没有定义，报错\n"
   ]
  },
  {
   "cell_type": "markdown",
   "metadata": {},
   "source": [
    "# 访问类的属性\n",
    "- 在类里面如果强制访问类的属性，则需要使用_class_，（注意前后两个下划线）\n",
    "- 类方法：定义类的方法的时候，没有self参数\n",
    "  - 定义类的方法的时候，没有self参数\n",
    "  - 类的方法中只允许使用类的内容\n",
    "  - 两种方法\n",
    "    - 类的名称\n",
    "    - \\_class\\_\n"
   ]
  },
  {
   "cell_type": "code",
   "execution_count": 19,
   "metadata": {},
   "outputs": [],
   "source": [
    "class Student():\n",
    "    # name，age是类的变量\n",
    "    # 注意类的变量的定义位置和方法\n",
    "    # 不需要前缀\n",
    "    name = \"北京图灵学院\"\n",
    "    age = 19\n",
    "    def sayHi(self):\n",
    "        print(\"My name is {},i am {} years old\".format(self.name,self.age))      \n",
    "        return None\n",
    "\n",
    "# sayHai是类的方法\n",
    "# 如何访问类的变量\n",
    "# 但是调用需要用到特殊的方法\n",
    "    \n",
    "    def sos():\n",
    "        \n",
    "        # 类方法中不允许调用实例的任何内容\n",
    "        print(\"My name is {}, i am {} years old\".format(Student.name,Student.age))\n",
    "        return None\n"
   ]
  },
  {
   "cell_type": "code",
   "execution_count": 22,
   "metadata": {},
   "outputs": [
    {
     "name": "stdout",
     "output_type": "stream",
     "text": [
      "My name is 北京图灵学院,i am 19 years old\n",
      "My name is 北京图灵学院, i am 19 years old\n"
     ]
    }
   ],
   "source": [
    "# 体验类的方法\n",
    "s = Student()\n",
    "s.sayHi()\n",
    "\n",
    "\n",
    "# 调用类方法的例子\n",
    "Student.sos()"
   ]
  },
  {
   "cell_type": "markdown",
   "metadata": {},
   "source": [
    "# 构造函数\n",
    "- 类在实例化的时候，执行一些基础性的初始化工作\n",
    "- 使用特殊的名称和写法\n",
    "- 在实例化的时候自动执行\n",
    "- 是在实例化的时候第一个被执行的函数\n",
    "- 要求，第一个参数必须有，一般推荐self\n",
    "- 一般不手动调用，实例化的时候自动调用，参数需写入类名称后面的括号中"
   ]
  },
  {
   "cell_type": "code",
   "execution_count": 44,
   "metadata": {},
   "outputs": [
    {
     "name": "stdout",
     "output_type": "stream",
     "text": [
      "我是构造函数\n",
      "----------\n",
      "NoName\n",
      "0\n"
     ]
    }
   ],
   "source": [
    "class Student():\n",
    "    name = \"NoName\"\n",
    "    age = 0\n",
    "    \n",
    "    # 构造函数名称固定，写法相对固定\n",
    "    def __init__(self):\n",
    "        print(\"我是构造函数\")\n",
    "        \n",
    "    \n",
    "erjing = Student()\n",
    "print(\"----------\")\n",
    "print(erjing.name)\n",
    "print(erjing.age)"
   ]
  },
  {
   "cell_type": "code",
   "execution_count": 46,
   "metadata": {},
   "outputs": [
    {
     "name": "stdout",
     "output_type": "stream",
     "text": [
      "我被调用了\n"
     ]
    }
   ],
   "source": [
    "class Bird():\n",
    "    def __init__(self):\n",
    "        print(\"我被调用了\")\n",
    "        return None\n",
    "\n",
    "# 此时被调用的构造函数\n",
    "b = Bird()"
   ]
  },
  {
   "cell_type": "code",
   "execution_count": 47,
   "metadata": {},
   "outputs": [
    {
     "name": "stdout",
     "output_type": "stream",
     "text": [
      "刘大拿 19\n"
     ]
    }
   ],
   "source": [
    "# 构造函数2\n",
    "class Person():\n",
    "    def __init__(self,name,age):\n",
    "        print(name,age)\n",
    "        \n",
    "p = Person(\"刘大拿\",19)"
   ]
  },
  {
   "cell_type": "markdown",
   "metadata": {},
   "source": [
    "# 面向对象的三大特征\n",
    "- 继承\n",
    "- 封装\n",
    "- 多态\n",
    "\n",
    "\n",
    "# 继承\n",
    "- 子类可以使用父类定义的内容或者行为等\n",
    "- 继承的实现\n",
    "  - 父类、基类、超类：被继承的类，Base Class，Super Class\n",
    "  - 子类：有继承行为的类\n",
    "  - 所有类都必须有一个父类\n",
    "    - 如果没有，则默认为是object的子类\n",
    "    - 子类可以有多个父类\n",
    "  "
   ]
  },
  {
   "cell_type": "code",
   "execution_count": 34,
   "metadata": {},
   "outputs": [],
   "source": [
    "# 所有的类必须有父类\n",
    "# 默认是object\n",
    "class Persion1():\n",
    "    pass\n",
    "\n",
    "class Persion2():\n",
    "    pass\n"
   ]
  },
  {
   "cell_type": "code",
   "execution_count": 36,
   "metadata": {},
   "outputs": [
    {
     "name": "stdout",
     "output_type": "stream",
     "text": [
      "NoName\n"
     ]
    }
   ],
   "source": [
    "class Person():\n",
    "    name = \"NoName\"\n",
    "    age = 0\n",
    "    \n",
    "# 父类写在类定义的括号里\n",
    "class Teacher(Person):\n",
    "    pass\n",
    "\n",
    "t = Teacher()\n",
    "print(t.name)\n",
    "    "
   ]
  },
  {
   "cell_type": "code",
   "execution_count": 38,
   "metadata": {},
   "outputs": [
    {
     "name": "stdout",
     "output_type": "stream",
     "text": [
      "飞呀飞呀飞\n",
      "NoName\n"
     ]
    }
   ],
   "source": [
    "class Bird():\n",
    "    fly = \"Yes，we can\"\n",
    "    def flying(self):\n",
    "        print(\"飞呀飞呀飞\")\n",
    "        \n",
    "class BirdMan(Person,Bird):\n",
    "    pass\n",
    "bm= BirdMan()\n",
    "bm.flying()\n",
    "print(bm.name)\n",
    "\n"
   ]
  },
  {
   "cell_type": "markdown",
   "metadata": {},
   "source": [
    "## issubclass检测是否是子类\n",
    "- 可以用来检测两个类的父子关系"
   ]
  },
  {
   "cell_type": "code",
   "execution_count": 40,
   "metadata": {},
   "outputs": [
    {
     "name": "stdout",
     "output_type": "stream",
     "text": [
      "True\n",
      "True\n",
      "False\n"
     ]
    }
   ],
   "source": [
    "# 利用刚才定义的Brid、BirdMan、Person，Teacher，检测父子关系\n",
    "\n",
    "print(issubclass(BirdMan,Bird))\n",
    "print(issubclass(BirdMan,Person))\n",
    "print(issubclass(BirdMan,Teacher))"
   ]
  },
  {
   "cell_type": "markdown",
   "metadata": {},
   "source": [
    "## 构造函数的继承\n",
    "- 构造函数默认继承，子类如果没有构造函数，则自动调用父类的构造函数\n",
    "- 一旦子类定义了构造函数，则不再自动调用父类的构造函数"
   ]
  },
  {
   "cell_type": "code",
   "execution_count": 48,
   "metadata": {},
   "outputs": [
    {
     "name": "stdout",
     "output_type": "stream",
     "text": [
      "Person = (刘大拿,19)\n"
     ]
    }
   ],
   "source": [
    "# 构造函数默认继承\n",
    "\n",
    "class Person():\n",
    "    def __init__(self,name,age):\n",
    "        print(\"Person = ({},{})\".format(name,age))\n",
    "class Teacher(Person):\n",
    "    pass\n",
    "\n",
    "t = Teacher(\"刘大拿\",19)"
   ]
  }
 ],
 "metadata": {
  "kernelspec": {
   "display_name": "Python 3",
   "language": "python",
   "name": "python3"
  },
  "language_info": {
   "codemirror_mode": {
    "name": "ipython",
    "version": 3
   },
   "file_extension": ".py",
   "mimetype": "text/x-python",
   "name": "python",
   "nbconvert_exporter": "python",
   "pygments_lexer": "ipython3",
   "version": "3.7.1"
  },
  "toc": {
   "base_numbering": 1,
   "nav_menu": {},
   "number_sections": true,
   "sideBar": true,
   "skip_h1_title": false,
   "title_cell": "Table of Contents",
   "title_sidebar": "Contents",
   "toc_cell": false,
   "toc_position": {},
   "toc_section_display": true,
   "toc_window_display": false
  }
 },
 "nbformat": 4,
 "nbformat_minor": 2
}
