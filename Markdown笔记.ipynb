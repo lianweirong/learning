{
 "cells": [
  {
   "cell_type": "markdown",
   "metadata": {},
   "source": [
    "# 标题1\n",
    "## 标题2\n",
    "### 标题3\n",
    "#### 标题4\n",
    "##### 标题5\n",
    "###### 标题6\n"
   ]
  },
  {
   "cell_type": "markdown",
   "metadata": {},
   "source": [
    "标题1\n",
    "====\n",
    "标题2\n",
    "-------"
   ]
  },
  {
   "cell_type": "markdown",
   "metadata": {},
   "source": [
    "段落的换行是使用两个以上空格加上回车  \n",
    "runoob.com  \n",
    "google.com  \n",
    "\n",
    "runoob.com\n",
    "google.com"
   ]
  },
  {
   "cell_type": "markdown",
   "metadata": {},
   "source": [
    "# 字体  \n",
    "Markdown可以使用以下几种字体：  \n",
    "*斜体文字*  \n",
    "_斜体文本_  \n",
    "**粗体文本**  \n",
    "__粗体文本__  \n",
    "***粗斜体文本***  \n",
    "___粗斜体文本___  "
   ]
  },
  {
   "cell_type": "markdown",
   "metadata": {},
   "source": [
    "# 分隔线  \n",
    "用三个以上星号（\\*）、减号（\\-）、底线（\\-）来建立分隔线，行内不能有其他东西\n",
    "***\n",
    "* * * *  \n",
    "******\n",
    "----  \n",
    "- - - \n"
   ]
  },
  {
   "cell_type": "markdown",
   "metadata": {},
   "source": [
    "# 删除线\n",
    "加上两个波浪线(\\~\\~)，可以添加删除线  \n",
    "baidu.com  \n",
    "~~百度.com~~"
   ]
  },
  {
   "cell_type": "markdown",
   "metadata": {},
   "source": [
    "# 下划线（存在问题）\n",
    "下划线可以通过HTML的\\<u>标签来实现.\n",
    "\n",
    "<u> 带下划线的文本</u>\n"
   ]
  },
  {
   "cell_type": "markdown",
   "metadata": {},
   "source": [
    "# 脚注（存在问题，无法按教程实现，后续找原因）\n",
    "脚注是对文本的补充说明。  \n",
    "Markdown脚注的格式如下：  \n",
    "生成一个脚注1[^footnote]。  \n",
    " [^footnote]: 这里是 **脚注** 的 *内容*."
   ]
  },
  {
   "cell_type": "markdown",
   "metadata": {},
   "source": [
    "# Markdown列表\n",
    "Markdown支持有序列表和无序列表。  \n",
    "无序列表用星号（\\*）、加号(\\+)或是减号（\\-）作为列表标记：  \n",
    "\n",
    "* 第一项  \n",
    "* 第二项\n",
    "* 第三项\n",
    "\n",
    "\n",
    "+ 第一项\n",
    "+ 第二项\n",
    "+ 第三项\n",
    "\n",
    "\n",
    "- 第一项\n",
    "- 第二项\n",
    "- 第三项"
   ]
  },
  {
   "cell_type": "markdown",
   "metadata": {},
   "source": [
    "# 列表嵌套（有问题）\n",
    "列表嵌套只需在子列表中的选项添加四个空格即可：  \n",
    "1.第一项：  \n",
    "    第一项嵌套的第一个元素  \n",
    "    第一项嵌套的第二个元素  \n",
    "2.第二项：  \n",
    "    第二项嵌套的第一个元素  \n",
    "    第二项嵌套的第二个元素"
   ]
  },
  {
   "cell_type": "code",
   "execution_count": null,
   "metadata": {},
   "outputs": [],
   "source": []
  }
 ],
 "metadata": {
  "kernelspec": {
   "display_name": "Python 3",
   "language": "python",
   "name": "python3"
  },
  "language_info": {
   "codemirror_mode": {
    "name": "ipython",
    "version": 3
   },
   "file_extension": ".py",
   "mimetype": "text/x-python",
   "name": "python",
   "nbconvert_exporter": "python",
   "pygments_lexer": "ipython3",
   "version": "3.7.6"
  }
 },
 "nbformat": 4,
 "nbformat_minor": 4
}
