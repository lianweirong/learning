{
 "cells": [
  {
   "cell_type": "code",
   "execution_count": 4,
   "metadata": {},
   "outputs": [
    {
     "name": "stdout",
     "output_type": "stream",
     "text": [
      "书的价格：1\n",
      "书的个数：1\n",
      "1.0\n"
     ]
    }
   ],
   "source": [
    "# 买书案例\n",
    "pricebook = input(\"书的价格：\")\n",
    "bookNum = input(\"书的个数：\")\n",
    "price = float(pricebook)\n",
    "num = float(bookNum)\n",
    "money = price * num\n",
    "print(money)\n"
   ]
  },
  {
   "cell_type": "code",
   "execution_count": 6,
   "metadata": {},
   "outputs": [
    {
     "name": "stdout",
     "output_type": "stream",
     "text": [
      "张三\n",
      "我的名字是 张三\n"
     ]
    }
   ],
   "source": [
    "# 格式化输出\n",
    "name = \"张三\"\n",
    "print(name)\n",
    "print(\"我的名字是 %s\"%name)"
   ]
  }
 ],
 "metadata": {
  "kernelspec": {
   "display_name": "Python 3",
   "language": "python",
   "name": "python3"
  },
  "language_info": {
   "codemirror_mode": {
    "name": "ipython",
    "version": 3
   },
   "file_extension": ".py",
   "mimetype": "text/x-python",
   "name": "python",
   "nbconvert_exporter": "python",
   "pygments_lexer": "ipython3",
   "version": "3.7.6"
  }
 },
 "nbformat": 4,
 "nbformat_minor": 4
}
